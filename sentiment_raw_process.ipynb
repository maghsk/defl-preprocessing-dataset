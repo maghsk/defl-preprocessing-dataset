{
 "cells": [
  {
   "cell_type": "code",
   "execution_count": 1,
   "metadata": {
    "collapsed": true
   },
   "outputs": [],
   "source": [
    "# DataFrame\n",
    "import pandas as pd\n",
    "\n",
    "# nltk\n",
    "import nltk\n",
    "from nltk.corpus import stopwords\n",
    "from nltk.stem import SnowballStemmer\n",
    "\n",
    "# Word2vec\n",
    "import gensim\n",
    "\n",
    "# Utility\n",
    "import re\n",
    "import logging\n",
    "import pickle\n",
    "\n",
    "import numpy as np\n",
    "import tensorflow as tf\n",
    "import tensorflow_datasets as tfds\n",
    "import scipy.sparse as sp\n",
    "from tqdm import tqdm"
   ]
  },
  {
   "cell_type": "code",
   "execution_count": 11,
   "outputs": [
    {
     "name": "stderr",
     "output_type": "stream",
     "text": [
      "[nltk_data] Downloading package stopwords to\n",
      "[nltk_data]     /Users/maghsk/nltk_data...\n",
      "[nltk_data]   Package stopwords is already up-to-date!\n"
     ]
    }
   ],
   "source": [
    "# Set log\n",
    "logging.basicConfig(format='%(asctime)s : %(levelname)s : %(message)s', level=logging.INFO)\n",
    "\n",
    "nltk.download('stopwords')\n",
    "stop_words = set(stopwords.words(\"english\"))\n",
    "stemmer = SnowballStemmer(\"english\")\n",
    "\n",
    "# # DATASET\n",
    "# DATASET_COLUMNS = [\"target\", \"ids\", \"date\", \"flag\", \"user\", \"text\"]\n",
    "# DATASET_ENCODING = \"ISO-8859-1\"\n",
    "# TRAIN_SIZE = 0.8\n",
    "\n",
    "# TEXT CLENAING\n",
    "# urlPattern = r\"((http://)[^ ]*|(https://)[^ ]*|( www\\.)[^ ]*)\"\n",
    "# userPattern = '@[^\\s]+'\n",
    "# punctuation = r'[^A-Za-z0-9]+'\n",
    "PATTERN = \"@\\S+|https?:\\S+|http?:\\S|[^A-Za-z0-9']+\"\n",
    "\n",
    "# WORD2VEC\n",
    "W2V_SIZE = 300\n",
    "W2V_WINDOW = 7\n",
    "W2V_EPOCH = 32\n",
    "W2V_MIN_COUNT = 10\n",
    "\n",
    "# KERAS\n",
    "SEQUENCE_LENGTH = 60\n",
    "EPOCHS = 10\n",
    "BATCH_SIZE = 1024\n",
    "\n",
    "# SENTIMENT\n",
    "POSITIVE = \"POSITIVE\"\n",
    "NEGATIVE = \"NEGATIVE\"\n",
    "NEUTRAL = \"NEUTRAL\"\n",
    "SENTIMENT_THRESHOLDS = (0.4, 0.7)\n",
    "\n",
    "# EXPORT\n",
    "KERAS_MODEL = \"model.h5\"\n",
    "WORD2VEC_MODEL = \"model.w2v\"\n",
    "TOKENIZER_MODEL = \"tokenizer.pkl\"\n",
    "ENCODER_MODEL = \"encoder.pkl\"\n",
    "CLEANED_TRAIN_CSV = 'cleaned_train_ds.csv'\n",
    "CLEANED_TEST_CSV = 'cleaned_test_ds.csv'\n",
    "# DATASET_CSV = './training.1600000.processed.noemoticon.csv'\n",
    "W2V_DICT_PKL = './w2v_dict.pkl'"
   ],
   "metadata": {
    "collapsed": false,
    "pycharm": {
     "name": "#%%\n"
    }
   }
  },
  {
   "cell_type": "code",
   "execution_count": 3,
   "outputs": [],
   "source": [
    "def replace_url(text, label):\n",
    "    text = tf.strings.lower(text)\n",
    "    text = tf.strings.regex_replace(text, PATTERN, \" \")\n",
    "    return text, label\n",
    "\n",
    "def preprocess(text, label):\n",
    "    return ' '.join(stemmer.stem(token) for token in text.numpy().decode().split() if token not in stop_words) , label\n",
    "\n",
    "\n",
    "def py_function_preprocess(text, label):\n",
    "    return tf.py_function(preprocess, [text, label], [tf.string, tf.int32])"
   ],
   "metadata": {
    "collapsed": false,
    "pycharm": {
     "name": "#%%\n"
    }
   }
  },
  {
   "cell_type": "code",
   "execution_count": 28,
   "outputs": [
    {
     "name": "stderr",
     "output_type": "stream",
     "text": [
      "2022-03-19 20:43:29,631 : INFO : Load dataset info from /Users/maghsk/tensorflow_datasets/sentiment140/1.0.0\n",
      "2022-03-19 20:43:29,634 : INFO : Reusing dataset sentiment140 (/Users/maghsk/tensorflow_datasets/sentiment140/1.0.0)\n",
      "2022-03-19 20:43:29,634 : INFO : Constructing tf.data.Dataset sentiment140 for split ['train', 'test'], from /Users/maghsk/tensorflow_datasets/sentiment140/1.0.0\n"
     ]
    }
   ],
   "source": [
    "with tf.device(\"/cpu:0\"):\n",
    "    (train_ds, test_ds), ds_info = tfds.load(name='sentiment140', split=['train', 'test'], as_supervised=True, with_info=True)\n",
    "    train_ds = train_ds.map(replace_url, num_parallel_calls=8).map(py_function_preprocess, num_parallel_calls=8).prefetch(buffer_size=tf.data.AUTOTUNE)\n",
    "    test_ds = test_ds.map(replace_url, num_parallel_calls=8).map(py_function_preprocess, num_parallel_calls=8).prefetch(buffer_size=tf.data.AUTOTUNE)"
   ],
   "metadata": {
    "collapsed": false,
    "pycharm": {
     "name": "#%%\n"
    }
   }
  },
  {
   "cell_type": "code",
   "execution_count": 26,
   "outputs": [],
   "source": [
    "# for i in train_ds.take(5):\n",
    "#     print(i)"
   ],
   "metadata": {
    "collapsed": false,
    "pycharm": {
     "name": "#%%\n"
    }
   }
  },
  {
   "cell_type": "code",
   "execution_count": 6,
   "outputs": [
    {
     "name": "stdout",
     "output_type": "stream",
     "text": [
      "TRAIN size: 1600000\n",
      "TEST size: 498\n"
     ]
    },
    {
     "name": "stderr",
     "output_type": "stream",
     "text": [
      "  0%|          | 0/1600000 [00:00<?, ?it/s]2022-03-19 20:23:02.218310: W tensorflow/core/platform/profile_utils/cpu_utils.cc:128] Failed to get CPU frequency: 0 Hz\n",
      "100%|██████████| 1600000/1600000 [04:33<00:00, 5848.36it/s]\n",
      "2022-03-19 20:27:45,044 : INFO : Word2Vec lifecycle event {'params': 'Word2Vec(vocab=0, vector_size=300, alpha=0.025)', 'datetime': '2022-03-19T20:27:45.043767', 'gensim': '4.1.2', 'python': '3.9.10 | packaged by conda-forge | (main, Feb  1 2022, 21:27:43) \\n[Clang 11.1.0 ]', 'platform': 'macOS-12.3-arm64-arm-64bit', 'event': 'created'}\n",
      "2022-03-19 20:27:45,047 : INFO : collecting all words and their counts\n",
      "2022-03-19 20:27:45,047 : INFO : PROGRESS: at sentence #0, processed 0 words, keeping 0 word types\n",
      "2022-03-19 20:27:45,057 : INFO : PROGRESS: at sentence #10000, processed 74045 words, keeping 11439 word types\n",
      "2022-03-19 20:27:45,066 : INFO : PROGRESS: at sentence #20000, processed 148364 words, keeping 17611 word types\n",
      "2022-03-19 20:27:45,076 : INFO : PROGRESS: at sentence #30000, processed 222864 words, keeping 22553 word types\n",
      "2022-03-19 20:27:45,087 : INFO : PROGRESS: at sentence #40000, processed 297083 words, keeping 26890 word types\n",
      "2022-03-19 20:27:45,100 : INFO : PROGRESS: at sentence #50000, processed 371088 words, keeping 30879 word types\n",
      "2022-03-19 20:27:45,110 : INFO : PROGRESS: at sentence #60000, processed 444660 words, keeping 34578 word types\n",
      "2022-03-19 20:27:45,120 : INFO : PROGRESS: at sentence #70000, processed 519438 words, keeping 38139 word types\n",
      "2022-03-19 20:27:45,129 : INFO : PROGRESS: at sentence #80000, processed 593007 words, keeping 41439 word types\n",
      "2022-03-19 20:27:45,140 : INFO : PROGRESS: at sentence #90000, processed 666605 words, keeping 44686 word types\n",
      "2022-03-19 20:27:45,154 : INFO : PROGRESS: at sentence #100000, processed 740172 words, keeping 47704 word types\n",
      "2022-03-19 20:27:45,164 : INFO : PROGRESS: at sentence #110000, processed 815032 words, keeping 50654 word types\n",
      "2022-03-19 20:27:45,173 : INFO : PROGRESS: at sentence #120000, processed 889558 words, keeping 53645 word types\n",
      "2022-03-19 20:27:45,185 : INFO : PROGRESS: at sentence #130000, processed 963513 words, keeping 56454 word types\n",
      "2022-03-19 20:27:45,196 : INFO : PROGRESS: at sentence #140000, processed 1036791 words, keeping 59113 word types\n",
      "2022-03-19 20:27:45,206 : INFO : PROGRESS: at sentence #150000, processed 1110421 words, keeping 61864 word types\n",
      "2022-03-19 20:27:45,217 : INFO : PROGRESS: at sentence #160000, processed 1184476 words, keeping 64376 word types\n",
      "2022-03-19 20:27:45,227 : INFO : PROGRESS: at sentence #170000, processed 1258035 words, keeping 66950 word types\n",
      "2022-03-19 20:27:45,237 : INFO : PROGRESS: at sentence #180000, processed 1332075 words, keeping 69509 word types\n",
      "2022-03-19 20:27:45,248 : INFO : PROGRESS: at sentence #190000, processed 1406386 words, keeping 71973 word types\n",
      "2022-03-19 20:27:45,258 : INFO : PROGRESS: at sentence #200000, processed 1479780 words, keeping 74343 word types\n",
      "2022-03-19 20:27:45,268 : INFO : PROGRESS: at sentence #210000, processed 1553588 words, keeping 76635 word types\n",
      "2022-03-19 20:27:45,279 : INFO : PROGRESS: at sentence #220000, processed 1627711 words, keeping 78918 word types\n",
      "2022-03-19 20:27:45,289 : INFO : PROGRESS: at sentence #230000, processed 1702150 words, keeping 81186 word types\n",
      "2022-03-19 20:27:45,301 : INFO : PROGRESS: at sentence #240000, processed 1776225 words, keeping 83491 word types\n",
      "2022-03-19 20:27:45,310 : INFO : PROGRESS: at sentence #250000, processed 1850775 words, keeping 85723 word types\n",
      "2022-03-19 20:27:45,322 : INFO : PROGRESS: at sentence #260000, processed 1925188 words, keeping 87963 word types\n",
      "2022-03-19 20:27:45,333 : INFO : PROGRESS: at sentence #270000, processed 1999089 words, keeping 90051 word types\n",
      "2022-03-19 20:27:45,343 : INFO : PROGRESS: at sentence #280000, processed 2073676 words, keeping 92276 word types\n",
      "2022-03-19 20:27:45,355 : INFO : PROGRESS: at sentence #290000, processed 2147535 words, keeping 94412 word types\n",
      "2022-03-19 20:27:45,365 : INFO : PROGRESS: at sentence #300000, processed 2221827 words, keeping 96508 word types\n",
      "2022-03-19 20:27:45,376 : INFO : PROGRESS: at sentence #310000, processed 2295705 words, keeping 98544 word types\n",
      "2022-03-19 20:27:45,387 : INFO : PROGRESS: at sentence #320000, processed 2369798 words, keeping 100573 word types\n",
      "2022-03-19 20:27:45,398 : INFO : PROGRESS: at sentence #330000, processed 2443975 words, keeping 102661 word types\n",
      "2022-03-19 20:27:45,410 : INFO : PROGRESS: at sentence #340000, processed 2517628 words, keeping 104673 word types\n",
      "2022-03-19 20:27:45,421 : INFO : PROGRESS: at sentence #350000, processed 2591533 words, keeping 106622 word types\n",
      "2022-03-19 20:27:45,433 : INFO : PROGRESS: at sentence #360000, processed 2665497 words, keeping 108685 word types\n",
      "2022-03-19 20:27:45,444 : INFO : PROGRESS: at sentence #370000, processed 2739399 words, keeping 110727 word types\n",
      "2022-03-19 20:27:45,455 : INFO : PROGRESS: at sentence #380000, processed 2813979 words, keeping 112733 word types\n",
      "2022-03-19 20:27:45,467 : INFO : PROGRESS: at sentence #390000, processed 2887635 words, keeping 114696 word types\n",
      "2022-03-19 20:27:45,476 : INFO : PROGRESS: at sentence #400000, processed 2961373 words, keeping 116647 word types\n",
      "2022-03-19 20:27:45,487 : INFO : PROGRESS: at sentence #410000, processed 3035788 words, keeping 118541 word types\n",
      "2022-03-19 20:27:45,498 : INFO : PROGRESS: at sentence #420000, processed 3109716 words, keeping 120424 word types\n",
      "2022-03-19 20:27:45,508 : INFO : PROGRESS: at sentence #430000, processed 3183433 words, keeping 122281 word types\n",
      "2022-03-19 20:27:45,519 : INFO : PROGRESS: at sentence #440000, processed 3257138 words, keeping 124129 word types\n",
      "2022-03-19 20:27:45,530 : INFO : PROGRESS: at sentence #450000, processed 3330467 words, keeping 125978 word types\n",
      "2022-03-19 20:27:45,540 : INFO : PROGRESS: at sentence #460000, processed 3404817 words, keeping 127890 word types\n",
      "2022-03-19 20:27:45,551 : INFO : PROGRESS: at sentence #470000, processed 3478603 words, keeping 129662 word types\n",
      "2022-03-19 20:27:45,563 : INFO : PROGRESS: at sentence #480000, processed 3552560 words, keeping 131528 word types\n",
      "2022-03-19 20:27:45,572 : INFO : PROGRESS: at sentence #490000, processed 3626199 words, keeping 133369 word types\n",
      "2022-03-19 20:27:45,584 : INFO : PROGRESS: at sentence #500000, processed 3699615 words, keeping 135087 word types\n",
      "2022-03-19 20:27:45,595 : INFO : PROGRESS: at sentence #510000, processed 3775051 words, keeping 136909 word types\n",
      "2022-03-19 20:27:45,605 : INFO : PROGRESS: at sentence #520000, processed 3849101 words, keeping 138719 word types\n",
      "2022-03-19 20:27:45,617 : INFO : PROGRESS: at sentence #530000, processed 3922764 words, keeping 140444 word types\n",
      "2022-03-19 20:27:45,627 : INFO : PROGRESS: at sentence #540000, processed 3997273 words, keeping 142175 word types\n",
      "2022-03-19 20:27:45,639 : INFO : PROGRESS: at sentence #550000, processed 4071564 words, keeping 143971 word types\n",
      "2022-03-19 20:27:45,649 : INFO : PROGRESS: at sentence #560000, processed 4145888 words, keeping 145667 word types\n",
      "2022-03-19 20:27:45,660 : INFO : PROGRESS: at sentence #570000, processed 4220015 words, keeping 147339 word types\n",
      "2022-03-19 20:27:45,671 : INFO : PROGRESS: at sentence #580000, processed 4293743 words, keeping 149017 word types\n",
      "2022-03-19 20:27:45,682 : INFO : PROGRESS: at sentence #590000, processed 4368395 words, keeping 150726 word types\n",
      "2022-03-19 20:27:45,693 : INFO : PROGRESS: at sentence #600000, processed 4441717 words, keeping 152452 word types\n",
      "2022-03-19 20:27:45,704 : INFO : PROGRESS: at sentence #610000, processed 4514651 words, keeping 154107 word types\n",
      "2022-03-19 20:27:45,714 : INFO : PROGRESS: at sentence #620000, processed 4588987 words, keeping 155859 word types\n",
      "2022-03-19 20:27:45,725 : INFO : PROGRESS: at sentence #630000, processed 4663060 words, keeping 157518 word types\n",
      "2022-03-19 20:27:45,736 : INFO : PROGRESS: at sentence #640000, processed 4736998 words, keeping 159147 word types\n",
      "2022-03-19 20:27:45,747 : INFO : PROGRESS: at sentence #650000, processed 4810459 words, keeping 160822 word types\n",
      "2022-03-19 20:27:45,757 : INFO : PROGRESS: at sentence #660000, processed 4884556 words, keeping 162397 word types\n",
      "2022-03-19 20:27:45,769 : INFO : PROGRESS: at sentence #670000, processed 4958751 words, keeping 164028 word types\n",
      "2022-03-19 20:27:45,778 : INFO : PROGRESS: at sentence #680000, processed 5032334 words, keeping 165592 word types\n",
      "2022-03-19 20:27:45,789 : INFO : PROGRESS: at sentence #690000, processed 5107047 words, keeping 167276 word types\n",
      "2022-03-19 20:27:45,802 : INFO : PROGRESS: at sentence #700000, processed 5180906 words, keeping 168763 word types\n",
      "2022-03-19 20:27:45,812 : INFO : PROGRESS: at sentence #710000, processed 5254740 words, keeping 170329 word types\n",
      "2022-03-19 20:27:45,823 : INFO : PROGRESS: at sentence #720000, processed 5328882 words, keeping 171880 word types\n",
      "2022-03-19 20:27:45,833 : INFO : PROGRESS: at sentence #730000, processed 5402563 words, keeping 173481 word types\n",
      "2022-03-19 20:27:45,846 : INFO : PROGRESS: at sentence #740000, processed 5476355 words, keeping 175098 word types\n",
      "2022-03-19 20:27:45,858 : INFO : PROGRESS: at sentence #750000, processed 5550885 words, keeping 176637 word types\n",
      "2022-03-19 20:27:45,868 : INFO : PROGRESS: at sentence #760000, processed 5624522 words, keeping 178177 word types\n",
      "2022-03-19 20:27:45,880 : INFO : PROGRESS: at sentence #770000, processed 5698339 words, keeping 179698 word types\n",
      "2022-03-19 20:27:45,890 : INFO : PROGRESS: at sentence #780000, processed 5772439 words, keeping 181288 word types\n",
      "2022-03-19 20:27:45,901 : INFO : PROGRESS: at sentence #790000, processed 5846381 words, keeping 182744 word types\n",
      "2022-03-19 20:27:45,913 : INFO : PROGRESS: at sentence #800000, processed 5920696 words, keeping 184289 word types\n",
      "2022-03-19 20:27:45,924 : INFO : PROGRESS: at sentence #810000, processed 5994968 words, keeping 185807 word types\n",
      "2022-03-19 20:27:45,937 : INFO : PROGRESS: at sentence #820000, processed 6069779 words, keeping 187323 word types\n",
      "2022-03-19 20:27:45,948 : INFO : PROGRESS: at sentence #830000, processed 6143450 words, keeping 188800 word types\n",
      "2022-03-19 20:27:45,958 : INFO : PROGRESS: at sentence #840000, processed 6217508 words, keeping 190360 word types\n",
      "2022-03-19 20:27:45,970 : INFO : PROGRESS: at sentence #850000, processed 6291432 words, keeping 191849 word types\n",
      "2022-03-19 20:27:45,980 : INFO : PROGRESS: at sentence #860000, processed 6365699 words, keeping 193429 word types\n",
      "2022-03-19 20:27:45,992 : INFO : PROGRESS: at sentence #870000, processed 6439908 words, keeping 194903 word types\n",
      "2022-03-19 20:27:46,003 : INFO : PROGRESS: at sentence #880000, processed 6513863 words, keeping 196359 word types\n",
      "2022-03-19 20:27:46,015 : INFO : PROGRESS: at sentence #890000, processed 6587587 words, keeping 197804 word types\n",
      "2022-03-19 20:27:46,026 : INFO : PROGRESS: at sentence #900000, processed 6661737 words, keeping 199288 word types\n",
      "2022-03-19 20:27:46,040 : INFO : PROGRESS: at sentence #910000, processed 6736286 words, keeping 200760 word types\n",
      "2022-03-19 20:27:46,051 : INFO : PROGRESS: at sentence #920000, processed 6810951 words, keeping 202187 word types\n",
      "2022-03-19 20:27:46,063 : INFO : PROGRESS: at sentence #930000, processed 6884918 words, keeping 203637 word types\n",
      "2022-03-19 20:27:46,075 : INFO : PROGRESS: at sentence #940000, processed 6960096 words, keeping 205122 word types\n",
      "2022-03-19 20:27:46,088 : INFO : PROGRESS: at sentence #950000, processed 7034187 words, keeping 206578 word types\n",
      "2022-03-19 20:27:46,100 : INFO : PROGRESS: at sentence #960000, processed 7108204 words, keeping 207982 word types\n",
      "2022-03-19 20:27:46,113 : INFO : PROGRESS: at sentence #970000, processed 7182990 words, keeping 209405 word types\n",
      "2022-03-19 20:27:46,124 : INFO : PROGRESS: at sentence #980000, processed 7256586 words, keeping 210892 word types\n",
      "2022-03-19 20:27:46,137 : INFO : PROGRESS: at sentence #990000, processed 7330058 words, keeping 212231 word types\n",
      "2022-03-19 20:27:46,149 : INFO : PROGRESS: at sentence #1000000, processed 7404166 words, keeping 213641 word types\n",
      "2022-03-19 20:27:46,162 : INFO : PROGRESS: at sentence #1010000, processed 7478401 words, keeping 215028 word types\n",
      "2022-03-19 20:27:46,175 : INFO : PROGRESS: at sentence #1020000, processed 7552297 words, keeping 216405 word types\n",
      "2022-03-19 20:27:46,187 : INFO : PROGRESS: at sentence #1030000, processed 7625764 words, keeping 217780 word types\n",
      "2022-03-19 20:27:46,200 : INFO : PROGRESS: at sentence #1040000, processed 7699451 words, keeping 219167 word types\n",
      "2022-03-19 20:27:46,211 : INFO : PROGRESS: at sentence #1050000, processed 7773437 words, keeping 220586 word types\n",
      "2022-03-19 20:27:46,224 : INFO : PROGRESS: at sentence #1060000, processed 7847081 words, keeping 222021 word types\n",
      "2022-03-19 20:27:46,236 : INFO : PROGRESS: at sentence #1070000, processed 7921095 words, keeping 223319 word types\n",
      "2022-03-19 20:27:46,249 : INFO : PROGRESS: at sentence #1080000, processed 7995464 words, keeping 224757 word types\n",
      "2022-03-19 20:27:46,261 : INFO : PROGRESS: at sentence #1090000, processed 8069005 words, keeping 226168 word types\n",
      "2022-03-19 20:27:46,272 : INFO : PROGRESS: at sentence #1100000, processed 8143563 words, keeping 227549 word types\n",
      "2022-03-19 20:27:46,285 : INFO : PROGRESS: at sentence #1110000, processed 8217217 words, keeping 228887 word types\n",
      "2022-03-19 20:27:46,297 : INFO : PROGRESS: at sentence #1120000, processed 8291273 words, keeping 230210 word types\n",
      "2022-03-19 20:27:46,309 : INFO : PROGRESS: at sentence #1130000, processed 8365499 words, keeping 231588 word types\n",
      "2022-03-19 20:27:46,320 : INFO : PROGRESS: at sentence #1140000, processed 8439233 words, keeping 232913 word types\n",
      "2022-03-19 20:27:46,333 : INFO : PROGRESS: at sentence #1150000, processed 8514315 words, keeping 234302 word types\n",
      "2022-03-19 20:27:46,342 : INFO : PROGRESS: at sentence #1160000, processed 8588135 words, keeping 235582 word types\n",
      "2022-03-19 20:27:46,355 : INFO : PROGRESS: at sentence #1170000, processed 8661997 words, keeping 236975 word types\n",
      "2022-03-19 20:27:46,366 : INFO : PROGRESS: at sentence #1180000, processed 8736000 words, keeping 238386 word types\n",
      "2022-03-19 20:27:46,377 : INFO : PROGRESS: at sentence #1190000, processed 8810070 words, keeping 239699 word types\n",
      "2022-03-19 20:27:46,390 : INFO : PROGRESS: at sentence #1200000, processed 8884560 words, keeping 241052 word types\n",
      "2022-03-19 20:27:46,401 : INFO : PROGRESS: at sentence #1210000, processed 8957988 words, keeping 242402 word types\n",
      "2022-03-19 20:27:46,413 : INFO : PROGRESS: at sentence #1220000, processed 9032290 words, keeping 243733 word types\n",
      "2022-03-19 20:27:46,424 : INFO : PROGRESS: at sentence #1230000, processed 9105462 words, keeping 244976 word types\n",
      "2022-03-19 20:27:46,436 : INFO : PROGRESS: at sentence #1240000, processed 9178981 words, keeping 246295 word types\n",
      "2022-03-19 20:27:46,448 : INFO : PROGRESS: at sentence #1250000, processed 9252878 words, keeping 247583 word types\n",
      "2022-03-19 20:27:46,458 : INFO : PROGRESS: at sentence #1260000, processed 9327092 words, keeping 248919 word types\n",
      "2022-03-19 20:27:46,470 : INFO : PROGRESS: at sentence #1270000, processed 9401166 words, keeping 250240 word types\n",
      "2022-03-19 20:27:46,481 : INFO : PROGRESS: at sentence #1280000, processed 9474884 words, keeping 251412 word types\n",
      "2022-03-19 20:27:46,493 : INFO : PROGRESS: at sentence #1290000, processed 9549251 words, keeping 252787 word types\n",
      "2022-03-19 20:27:46,505 : INFO : PROGRESS: at sentence #1300000, processed 9623552 words, keeping 254056 word types\n",
      "2022-03-19 20:27:46,517 : INFO : PROGRESS: at sentence #1310000, processed 9697294 words, keeping 255332 word types\n",
      "2022-03-19 20:27:46,528 : INFO : PROGRESS: at sentence #1320000, processed 9771611 words, keeping 256673 word types\n",
      "2022-03-19 20:27:46,539 : INFO : PROGRESS: at sentence #1330000, processed 9846338 words, keeping 257890 word types\n",
      "2022-03-19 20:27:46,551 : INFO : PROGRESS: at sentence #1340000, processed 9919623 words, keeping 259185 word types\n",
      "2022-03-19 20:27:46,564 : INFO : PROGRESS: at sentence #1350000, processed 9992977 words, keeping 260456 word types\n",
      "2022-03-19 20:27:46,578 : INFO : PROGRESS: at sentence #1360000, processed 10066905 words, keeping 261705 word types\n",
      "2022-03-19 20:27:46,591 : INFO : PROGRESS: at sentence #1370000, processed 10141117 words, keeping 262972 word types\n",
      "2022-03-19 20:27:46,605 : INFO : PROGRESS: at sentence #1380000, processed 10215381 words, keeping 264248 word types\n",
      "2022-03-19 20:27:46,617 : INFO : PROGRESS: at sentence #1390000, processed 10290174 words, keeping 265625 word types\n",
      "2022-03-19 20:27:46,631 : INFO : PROGRESS: at sentence #1400000, processed 10364354 words, keeping 266866 word types\n",
      "2022-03-19 20:27:46,642 : INFO : PROGRESS: at sentence #1410000, processed 10439217 words, keeping 268142 word types\n",
      "2022-03-19 20:27:46,656 : INFO : PROGRESS: at sentence #1420000, processed 10513282 words, keeping 269370 word types\n",
      "2022-03-19 20:27:46,669 : INFO : PROGRESS: at sentence #1430000, processed 10587478 words, keeping 270656 word types\n",
      "2022-03-19 20:27:46,681 : INFO : PROGRESS: at sentence #1440000, processed 10661141 words, keeping 271866 word types\n",
      "2022-03-19 20:27:46,694 : INFO : PROGRESS: at sentence #1450000, processed 10736362 words, keeping 273239 word types\n",
      "2022-03-19 20:27:46,708 : INFO : PROGRESS: at sentence #1460000, processed 10810295 words, keeping 274491 word types\n",
      "2022-03-19 20:27:46,720 : INFO : PROGRESS: at sentence #1470000, processed 10883311 words, keeping 275698 word types\n",
      "2022-03-19 20:27:46,733 : INFO : PROGRESS: at sentence #1480000, processed 10957205 words, keeping 276967 word types\n",
      "2022-03-19 20:27:46,744 : INFO : PROGRESS: at sentence #1490000, processed 11031774 words, keeping 278222 word types\n",
      "2022-03-19 20:27:46,758 : INFO : PROGRESS: at sentence #1500000, processed 11106588 words, keeping 279514 word types\n",
      "2022-03-19 20:27:46,771 : INFO : PROGRESS: at sentence #1510000, processed 11180362 words, keeping 280779 word types\n",
      "2022-03-19 20:27:46,784 : INFO : PROGRESS: at sentence #1520000, processed 11254251 words, keeping 282031 word types\n",
      "2022-03-19 20:27:46,796 : INFO : PROGRESS: at sentence #1530000, processed 11328502 words, keeping 283273 word types\n",
      "2022-03-19 20:27:46,810 : INFO : PROGRESS: at sentence #1540000, processed 11402553 words, keeping 284474 word types\n",
      "2022-03-19 20:27:46,822 : INFO : PROGRESS: at sentence #1550000, processed 11476838 words, keeping 285701 word types\n",
      "2022-03-19 20:27:46,835 : INFO : PROGRESS: at sentence #1560000, processed 11551061 words, keeping 286943 word types\n",
      "2022-03-19 20:27:46,847 : INFO : PROGRESS: at sentence #1570000, processed 11625232 words, keeping 288166 word types\n",
      "2022-03-19 20:27:46,859 : INFO : PROGRESS: at sentence #1580000, processed 11699223 words, keeping 289361 word types\n",
      "2022-03-19 20:27:46,872 : INFO : PROGRESS: at sentence #1590000, processed 11773421 words, keeping 290593 word types\n",
      "2022-03-19 20:27:46,886 : INFO : collected 291855 word types from a corpus of 11847269 raw words and 1600000 sentences\n",
      "2022-03-19 20:27:46,886 : INFO : Creating a fresh vocabulary\n",
      "2022-03-19 20:27:46,992 : INFO : Word2Vec lifecycle event {'msg': 'effective_min_count=10 retains 27085 unique words (9.280293296328656%% of original 291855, drops 264770)', 'datetime': '2022-03-19T20:27:46.992896', 'gensim': '4.1.2', 'python': '3.9.10 | packaged by conda-forge | (main, Feb  1 2022, 21:27:43) \\n[Clang 11.1.0 ]', 'platform': 'macOS-12.3-arm64-arm-64bit', 'event': 'prepare_vocab'}\n",
      "2022-03-19 20:27:46,993 : INFO : Word2Vec lifecycle event {'msg': 'effective_min_count=10 leaves 11404134 word corpus (96.25960210745616%% of original 11847269, drops 443135)', 'datetime': '2022-03-19T20:27:46.993244', 'gensim': '4.1.2', 'python': '3.9.10 | packaged by conda-forge | (main, Feb  1 2022, 21:27:43) \\n[Clang 11.1.0 ]', 'platform': 'macOS-12.3-arm64-arm-64bit', 'event': 'prepare_vocab'}\n",
      "2022-03-19 20:27:47,058 : INFO : deleting the raw counts dictionary of 291855 items\n",
      "2022-03-19 20:27:47,061 : INFO : sample=0.001 downsamples 53 most-common words\n",
      "2022-03-19 20:27:47,061 : INFO : Word2Vec lifecycle event {'msg': 'downsampling leaves estimated 10404653.680178475 word corpus (91.2%% of prior 11404134)', 'datetime': '2022-03-19T20:27:47.061881', 'gensim': '4.1.2', 'python': '3.9.10 | packaged by conda-forge | (main, Feb  1 2022, 21:27:43) \\n[Clang 11.1.0 ]', 'platform': 'macOS-12.3-arm64-arm-64bit', 'event': 'prepare_vocab'}\n",
      "2022-03-19 20:27:47,176 : INFO : estimated required memory for 27085 words and 300 dimensions: 78546500 bytes\n",
      "2022-03-19 20:27:47,176 : INFO : resetting layer weights\n",
      "2022-03-19 20:27:47,202 : INFO : Word2Vec lifecycle event {'update': False, 'trim_rule': 'None', 'datetime': '2022-03-19T20:27:47.202219', 'gensim': '4.1.2', 'python': '3.9.10 | packaged by conda-forge | (main, Feb  1 2022, 21:27:43) \\n[Clang 11.1.0 ]', 'platform': 'macOS-12.3-arm64-arm-64bit', 'event': 'build_vocab'}\n"
     ]
    },
    {
     "name": "stdout",
     "output_type": "stream",
     "text": [
      "Vocab size 27085\n",
      "CPU times: user 6min 41s, sys: 2min 58s, total: 9min 39s\n",
      "Wall time: 4min 45s\n"
     ]
    }
   ],
   "source": [
    "%%time\n",
    "print(\"TRAIN size:\", len(train_ds))\n",
    "print(\"TEST size:\", len(test_ds))\n",
    "\n",
    "lines, labels = zip(*[x for x in tqdm(train_ds)])\n",
    "lines = [x.numpy().decode() for x in lines]\n",
    "labels = [x.numpy() for x in labels]\n",
    "\n",
    "documents = [x.split() for x in lines]\n",
    "\n",
    "w2v_model = gensim.models.word2vec.Word2Vec(vector_size=W2V_SIZE,\n",
    "                                            window=W2V_WINDOW,\n",
    "                                            min_count=W2V_MIN_COUNT,\n",
    "                                            workers=8)\n",
    "\n",
    "w2v_model.build_vocab(documents)\n",
    "\n",
    "vocab_size = len(w2v_model.wv.index_to_key)\n",
    "print(\"Vocab size\", vocab_size)"
   ],
   "metadata": {
    "collapsed": false,
    "pycharm": {
     "name": "#%%\n"
    }
   }
  },
  {
   "cell_type": "code",
   "execution_count": 7,
   "outputs": [
    {
     "name": "stderr",
     "output_type": "stream",
     "text": [
      "2022-03-19 20:27:47,209 : INFO : Word2Vec lifecycle event {'msg': 'training model with 8 workers on 27085 vocabulary and 300 features, using sg=0 hs=0 sample=0.001 negative=5 window=7 shrink_windows=True', 'datetime': '2022-03-19T20:27:47.209855', 'gensim': '4.1.2', 'python': '3.9.10 | packaged by conda-forge | (main, Feb  1 2022, 21:27:43) \\n[Clang 11.1.0 ]', 'platform': 'macOS-12.3-arm64-arm-64bit', 'event': 'train'}\n",
      "2022-03-19 20:27:48,232 : INFO : EPOCH 1 - PROGRESS: at 17.12% examples, 1755792 words/s, in_qsize 14, out_qsize 1\n",
      "2022-03-19 20:27:49,234 : INFO : EPOCH 1 - PROGRESS: at 33.17% examples, 1710860 words/s, in_qsize 15, out_qsize 0\n",
      "2022-03-19 20:27:50,251 : INFO : EPOCH 1 - PROGRESS: at 46.93% examples, 1609325 words/s, in_qsize 14, out_qsize 1\n",
      "2022-03-19 20:27:51,255 : INFO : EPOCH 1 - PROGRESS: at 59.74% examples, 1539391 words/s, in_qsize 15, out_qsize 0\n",
      "2022-03-19 20:27:52,257 : INFO : EPOCH 1 - PROGRESS: at 76.20% examples, 1572999 words/s, in_qsize 15, out_qsize 0\n",
      "2022-03-19 20:27:53,266 : INFO : EPOCH 1 - PROGRESS: at 93.66% examples, 1611045 words/s, in_qsize 15, out_qsize 1\n",
      "2022-03-19 20:27:53,602 : INFO : worker thread finished; awaiting finish of 7 more threads\n",
      "2022-03-19 20:27:53,608 : INFO : worker thread finished; awaiting finish of 6 more threads\n",
      "2022-03-19 20:27:53,615 : INFO : worker thread finished; awaiting finish of 5 more threads\n",
      "2022-03-19 20:27:53,617 : INFO : worker thread finished; awaiting finish of 4 more threads\n",
      "2022-03-19 20:27:53,618 : INFO : worker thread finished; awaiting finish of 3 more threads\n",
      "2022-03-19 20:27:53,618 : INFO : worker thread finished; awaiting finish of 2 more threads\n",
      "2022-03-19 20:27:53,622 : INFO : worker thread finished; awaiting finish of 1 more threads\n",
      "2022-03-19 20:27:53,625 : INFO : worker thread finished; awaiting finish of 0 more threads\n",
      "2022-03-19 20:27:53,626 : INFO : EPOCH - 1 : training on 11847269 raw words (10404644 effective words) took 6.4s, 1623622 effective words/s\n",
      "2022-03-19 20:27:54,638 : INFO : EPOCH 2 - PROGRESS: at 15.11% examples, 1568284 words/s, in_qsize 14, out_qsize 1\n",
      "2022-03-19 20:27:55,644 : INFO : EPOCH 2 - PROGRESS: at 32.07% examples, 1661258 words/s, in_qsize 14, out_qsize 1\n",
      "2022-03-19 20:27:56,649 : INFO : EPOCH 2 - PROGRESS: at 48.45% examples, 1672295 words/s, in_qsize 15, out_qsize 0\n",
      "2022-03-19 20:27:57,657 : INFO : EPOCH 2 - PROGRESS: at 63.54% examples, 1643651 words/s, in_qsize 15, out_qsize 0\n",
      "2022-03-19 20:27:58,665 : INFO : EPOCH 2 - PROGRESS: at 79.84% examples, 1651287 words/s, in_qsize 15, out_qsize 0\n",
      "2022-03-19 20:27:59,674 : INFO : EPOCH 2 - PROGRESS: at 96.69% examples, 1666151 words/s, in_qsize 15, out_qsize 0\n",
      "2022-03-19 20:27:59,822 : INFO : worker thread finished; awaiting finish of 7 more threads\n",
      "2022-03-19 20:27:59,829 : INFO : worker thread finished; awaiting finish of 6 more threads\n",
      "2022-03-19 20:27:59,830 : INFO : worker thread finished; awaiting finish of 5 more threads\n",
      "2022-03-19 20:27:59,831 : INFO : worker thread finished; awaiting finish of 4 more threads\n",
      "2022-03-19 20:27:59,834 : INFO : worker thread finished; awaiting finish of 3 more threads\n",
      "2022-03-19 20:27:59,843 : INFO : worker thread finished; awaiting finish of 2 more threads\n",
      "2022-03-19 20:27:59,849 : INFO : worker thread finished; awaiting finish of 1 more threads\n",
      "2022-03-19 20:27:59,855 : INFO : worker thread finished; awaiting finish of 0 more threads\n",
      "2022-03-19 20:27:59,856 : INFO : EPOCH - 2 : training on 11847269 raw words (10403841 effective words) took 6.2s, 1672748 effective words/s\n",
      "2022-03-19 20:28:00,865 : INFO : EPOCH 3 - PROGRESS: at 16.79% examples, 1746203 words/s, in_qsize 15, out_qsize 1\n",
      "2022-03-19 20:28:01,866 : INFO : EPOCH 3 - PROGRESS: at 33.51% examples, 1741627 words/s, in_qsize 15, out_qsize 0\n",
      "2022-03-19 20:28:02,871 : INFO : EPOCH 3 - PROGRESS: at 50.48% examples, 1746239 words/s, in_qsize 14, out_qsize 1\n",
      "2022-03-19 20:28:03,874 : INFO : EPOCH 3 - PROGRESS: at 63.88% examples, 1657553 words/s, in_qsize 15, out_qsize 0\n",
      "2022-03-19 20:28:04,886 : INFO : EPOCH 3 - PROGRESS: at 77.47% examples, 1604857 words/s, in_qsize 14, out_qsize 1\n",
      "2022-03-19 20:28:05,894 : INFO : EPOCH 3 - PROGRESS: at 95.26% examples, 1643611 words/s, in_qsize 14, out_qsize 1\n",
      "2022-03-19 20:28:06,138 : INFO : worker thread finished; awaiting finish of 7 more threads\n",
      "2022-03-19 20:28:06,139 : INFO : worker thread finished; awaiting finish of 6 more threads\n",
      "2022-03-19 20:28:06,140 : INFO : worker thread finished; awaiting finish of 5 more threads\n",
      "2022-03-19 20:28:06,141 : INFO : worker thread finished; awaiting finish of 4 more threads\n",
      "2022-03-19 20:28:06,143 : INFO : worker thread finished; awaiting finish of 3 more threads\n",
      "2022-03-19 20:28:06,145 : INFO : worker thread finished; awaiting finish of 2 more threads\n",
      "2022-03-19 20:28:06,146 : INFO : worker thread finished; awaiting finish of 1 more threads\n",
      "2022-03-19 20:28:06,148 : INFO : worker thread finished; awaiting finish of 0 more threads\n",
      "2022-03-19 20:28:06,148 : INFO : EPOCH - 3 : training on 11847269 raw words (10404226 effective words) took 6.3s, 1655923 effective words/s\n",
      "2022-03-19 20:28:07,161 : INFO : EPOCH 4 - PROGRESS: at 15.36% examples, 1590195 words/s, in_qsize 14, out_qsize 1\n",
      "2022-03-19 20:28:08,166 : INFO : EPOCH 4 - PROGRESS: at 29.37% examples, 1520517 words/s, in_qsize 15, out_qsize 0\n",
      "2022-03-19 20:28:09,172 : INFO : EPOCH 4 - PROGRESS: at 45.07% examples, 1554673 words/s, in_qsize 14, out_qsize 1\n",
      "2022-03-19 20:28:10,178 : INFO : EPOCH 4 - PROGRESS: at 61.08% examples, 1580532 words/s, in_qsize 15, out_qsize 0\n",
      "2022-03-19 20:28:11,182 : INFO : EPOCH 4 - PROGRESS: at 72.57% examples, 1502459 words/s, in_qsize 15, out_qsize 0\n",
      "2022-03-19 20:28:12,184 : INFO : EPOCH 4 - PROGRESS: at 86.08% examples, 1485517 words/s, in_qsize 13, out_qsize 0\n",
      "2022-03-19 20:28:13,032 : INFO : worker thread finished; awaiting finish of 7 more threads\n",
      "2022-03-19 20:28:13,039 : INFO : worker thread finished; awaiting finish of 6 more threads\n",
      "2022-03-19 20:28:13,043 : INFO : worker thread finished; awaiting finish of 5 more threads\n",
      "2022-03-19 20:28:13,049 : INFO : worker thread finished; awaiting finish of 4 more threads\n",
      "2022-03-19 20:28:13,050 : INFO : worker thread finished; awaiting finish of 3 more threads\n",
      "2022-03-19 20:28:13,059 : INFO : worker thread finished; awaiting finish of 2 more threads\n",
      "2022-03-19 20:28:13,060 : INFO : worker thread finished; awaiting finish of 1 more threads\n",
      "2022-03-19 20:28:13,066 : INFO : worker thread finished; awaiting finish of 0 more threads\n",
      "2022-03-19 20:28:13,067 : INFO : EPOCH - 4 : training on 11847269 raw words (10404655 effective words) took 6.9s, 1505791 effective words/s\n",
      "2022-03-19 20:28:14,083 : INFO : EPOCH 5 - PROGRESS: at 15.61% examples, 1610833 words/s, in_qsize 13, out_qsize 2\n",
      "2022-03-19 20:28:15,085 : INFO : EPOCH 5 - PROGRESS: at 32.24% examples, 1668350 words/s, in_qsize 15, out_qsize 0\n",
      "2022-03-19 20:28:16,088 : INFO : EPOCH 5 - PROGRESS: at 49.21% examples, 1698942 words/s, in_qsize 14, out_qsize 1\n",
      "2022-03-19 20:28:17,093 : INFO : EPOCH 5 - PROGRESS: at 65.48% examples, 1695821 words/s, in_qsize 14, out_qsize 1\n",
      "2022-03-19 20:28:18,096 : INFO : EPOCH 5 - PROGRESS: at 79.50% examples, 1646932 words/s, in_qsize 15, out_qsize 0\n",
      "2022-03-19 20:28:19,097 : INFO : EPOCH 5 - PROGRESS: at 95.01% examples, 1641409 words/s, in_qsize 15, out_qsize 0\n",
      "2022-03-19 20:28:19,365 : INFO : worker thread finished; awaiting finish of 7 more threads\n",
      "2022-03-19 20:28:19,370 : INFO : worker thread finished; awaiting finish of 6 more threads\n",
      "2022-03-19 20:28:19,371 : INFO : worker thread finished; awaiting finish of 5 more threads\n",
      "2022-03-19 20:28:19,374 : INFO : worker thread finished; awaiting finish of 4 more threads\n",
      "2022-03-19 20:28:19,379 : INFO : worker thread finished; awaiting finish of 3 more threads\n",
      "2022-03-19 20:28:19,386 : INFO : worker thread finished; awaiting finish of 2 more threads\n",
      "2022-03-19 20:28:19,388 : INFO : worker thread finished; awaiting finish of 1 more threads\n",
      "2022-03-19 20:28:19,392 : INFO : worker thread finished; awaiting finish of 0 more threads\n",
      "2022-03-19 20:28:19,392 : INFO : EPOCH - 5 : training on 11847269 raw words (10404509 effective words) took 6.3s, 1647066 effective words/s\n",
      "2022-03-19 20:28:20,402 : INFO : EPOCH 6 - PROGRESS: at 17.21% examples, 1789670 words/s, in_qsize 15, out_qsize 1\n",
      "2022-03-19 20:28:21,407 : INFO : EPOCH 6 - PROGRESS: at 33.84% examples, 1755575 words/s, in_qsize 16, out_qsize 1\n",
      "2022-03-19 20:28:22,407 : INFO : EPOCH 6 - PROGRESS: at 50.48% examples, 1746617 words/s, in_qsize 14, out_qsize 1\n",
      "2022-03-19 20:28:23,408 : INFO : EPOCH 6 - PROGRESS: at 67.00% examples, 1739905 words/s, in_qsize 15, out_qsize 0\n",
      "2022-03-19 20:28:24,416 : INFO : EPOCH 6 - PROGRESS: at 82.79% examples, 1717469 words/s, in_qsize 15, out_qsize 0\n",
      "2022-03-19 20:28:25,416 : INFO : EPOCH 6 - PROGRESS: at 98.21% examples, 1698756 words/s, in_qsize 14, out_qsize 1\n",
      "2022-03-19 20:28:25,475 : INFO : worker thread finished; awaiting finish of 7 more threads\n",
      "2022-03-19 20:28:25,479 : INFO : worker thread finished; awaiting finish of 6 more threads\n",
      "2022-03-19 20:28:25,484 : INFO : worker thread finished; awaiting finish of 5 more threads\n",
      "2022-03-19 20:28:25,486 : INFO : worker thread finished; awaiting finish of 4 more threads\n",
      "2022-03-19 20:28:25,487 : INFO : worker thread finished; awaiting finish of 3 more threads\n",
      "2022-03-19 20:28:25,496 : INFO : worker thread finished; awaiting finish of 2 more threads\n",
      "2022-03-19 20:28:25,498 : INFO : worker thread finished; awaiting finish of 1 more threads\n",
      "2022-03-19 20:28:25,502 : INFO : worker thread finished; awaiting finish of 0 more threads\n",
      "2022-03-19 20:28:25,502 : INFO : EPOCH - 6 : training on 11847269 raw words (10404619 effective words) took 6.1s, 1705391 effective words/s\n",
      "2022-03-19 20:28:26,525 : INFO : EPOCH 7 - PROGRESS: at 17.46% examples, 1794549 words/s, in_qsize 15, out_qsize 1\n",
      "2022-03-19 20:28:27,526 : INFO : EPOCH 7 - PROGRESS: at 35.44% examples, 1831489 words/s, in_qsize 15, out_qsize 0\n",
      "2022-03-19 20:28:28,528 : INFO : EPOCH 7 - PROGRESS: at 53.00% examples, 1828331 words/s, in_qsize 15, out_qsize 0\n",
      "2022-03-19 20:28:29,539 : INFO : EPOCH 7 - PROGRESS: at 67.42% examples, 1742099 words/s, in_qsize 12, out_qsize 1\n",
      "2022-03-19 20:28:30,575 : INFO : EPOCH 7 - PROGRESS: at 79.16% examples, 1626540 words/s, in_qsize 9, out_qsize 6\n",
      "2022-03-19 20:28:31,582 : INFO : EPOCH 7 - PROGRESS: at 91.29% examples, 1564798 words/s, in_qsize 14, out_qsize 1\n",
      "2022-03-19 20:28:32,159 : INFO : worker thread finished; awaiting finish of 7 more threads\n",
      "2022-03-19 20:28:32,164 : INFO : worker thread finished; awaiting finish of 6 more threads\n",
      "2022-03-19 20:28:32,166 : INFO : worker thread finished; awaiting finish of 5 more threads\n",
      "2022-03-19 20:28:32,169 : INFO : worker thread finished; awaiting finish of 4 more threads\n",
      "2022-03-19 20:28:32,169 : INFO : worker thread finished; awaiting finish of 3 more threads\n",
      "2022-03-19 20:28:32,170 : INFO : worker thread finished; awaiting finish of 2 more threads\n",
      "2022-03-19 20:28:32,174 : INFO : worker thread finished; awaiting finish of 1 more threads\n",
      "2022-03-19 20:28:32,187 : INFO : worker thread finished; awaiting finish of 0 more threads\n",
      "2022-03-19 20:28:32,188 : INFO : EPOCH - 7 : training on 11847269 raw words (10404813 effective words) took 6.7s, 1558596 effective words/s\n",
      "2022-03-19 20:28:33,203 : INFO : EPOCH 8 - PROGRESS: at 17.46% examples, 1804557 words/s, in_qsize 15, out_qsize 0\n",
      "2022-03-19 20:28:34,205 : INFO : EPOCH 8 - PROGRESS: at 31.90% examples, 1651336 words/s, in_qsize 15, out_qsize 0\n",
      "2022-03-19 20:28:35,205 : INFO : EPOCH 8 - PROGRESS: at 45.41% examples, 1569211 words/s, in_qsize 15, out_qsize 0\n",
      "2022-03-19 20:28:36,215 : INFO : EPOCH 8 - PROGRESS: at 62.10% examples, 1607361 words/s, in_qsize 15, out_qsize 0\n",
      "2022-03-19 20:28:37,223 : INFO : EPOCH 8 - PROGRESS: at 77.90% examples, 1611579 words/s, in_qsize 14, out_qsize 1\n",
      "2022-03-19 20:28:38,224 : INFO : EPOCH 8 - PROGRESS: at 91.64% examples, 1581469 words/s, in_qsize 13, out_qsize 2\n",
      "2022-03-19 20:28:38,746 : INFO : worker thread finished; awaiting finish of 7 more threads\n",
      "2022-03-19 20:28:38,749 : INFO : worker thread finished; awaiting finish of 6 more threads\n",
      "2022-03-19 20:28:38,754 : INFO : worker thread finished; awaiting finish of 5 more threads\n",
      "2022-03-19 20:28:38,756 : INFO : worker thread finished; awaiting finish of 4 more threads\n",
      "2022-03-19 20:28:38,758 : INFO : worker thread finished; awaiting finish of 3 more threads\n",
      "2022-03-19 20:28:38,761 : INFO : worker thread finished; awaiting finish of 2 more threads\n",
      "2022-03-19 20:28:38,763 : INFO : worker thread finished; awaiting finish of 1 more threads\n",
      "2022-03-19 20:28:38,772 : INFO : worker thread finished; awaiting finish of 0 more threads\n",
      "2022-03-19 20:28:38,772 : INFO : EPOCH - 8 : training on 11847269 raw words (10404338 effective words) took 6.6s, 1582112 effective words/s\n",
      "2022-03-19 20:28:39,797 : INFO : EPOCH 9 - PROGRESS: at 16.71% examples, 1713547 words/s, in_qsize 15, out_qsize 0\n",
      "2022-03-19 20:28:40,798 : INFO : EPOCH 9 - PROGRESS: at 33.93% examples, 1750918 words/s, in_qsize 15, out_qsize 0\n",
      "2022-03-19 20:28:41,799 : INFO : EPOCH 9 - PROGRESS: at 51.40% examples, 1771975 words/s, in_qsize 15, out_qsize 0\n",
      "2022-03-19 20:28:42,808 : INFO : EPOCH 9 - PROGRESS: at 68.35% examples, 1766386 words/s, in_qsize 14, out_qsize 1\n",
      "2022-03-19 20:28:43,821 : INFO : EPOCH 9 - PROGRESS: at 83.20% examples, 1717981 words/s, in_qsize 15, out_qsize 0\n",
      "2022-03-19 20:28:44,831 : INFO : EPOCH 9 - PROGRESS: at 98.21% examples, 1689170 words/s, in_qsize 14, out_qsize 1\n",
      "2022-03-19 20:28:44,916 : INFO : worker thread finished; awaiting finish of 7 more threads\n",
      "2022-03-19 20:28:44,918 : INFO : worker thread finished; awaiting finish of 6 more threads\n",
      "2022-03-19 20:28:44,920 : INFO : worker thread finished; awaiting finish of 5 more threads\n",
      "2022-03-19 20:28:44,922 : INFO : worker thread finished; awaiting finish of 4 more threads\n",
      "2022-03-19 20:28:44,923 : INFO : worker thread finished; awaiting finish of 3 more threads\n",
      "2022-03-19 20:28:44,925 : INFO : worker thread finished; awaiting finish of 2 more threads\n",
      "2022-03-19 20:28:44,932 : INFO : worker thread finished; awaiting finish of 1 more threads\n",
      "2022-03-19 20:28:44,932 : INFO : worker thread finished; awaiting finish of 0 more threads\n",
      "2022-03-19 20:28:44,933 : INFO : EPOCH - 9 : training on 11847269 raw words (10404153 effective words) took 6.2s, 1691576 effective words/s\n",
      "2022-03-19 20:28:45,951 : INFO : EPOCH 10 - PROGRESS: at 16.20% examples, 1667382 words/s, in_qsize 15, out_qsize 0\n",
      "2022-03-19 20:28:46,956 : INFO : EPOCH 10 - PROGRESS: at 34.18% examples, 1763660 words/s, in_qsize 13, out_qsize 2\n",
      "2022-03-19 20:28:47,957 : INFO : EPOCH 10 - PROGRESS: at 51.65% examples, 1781210 words/s, in_qsize 13, out_qsize 2\n",
      "2022-03-19 20:28:48,960 : INFO : EPOCH 10 - PROGRESS: at 69.54% examples, 1799720 words/s, in_qsize 13, out_qsize 2\n",
      "2022-03-19 20:28:49,960 : INFO : EPOCH 10 - PROGRESS: at 86.75% examples, 1797737 words/s, in_qsize 15, out_qsize 0\n",
      "2022-03-19 20:28:50,989 : INFO : EPOCH 10 - PROGRESS: at 95.93% examples, 1650040 words/s, in_qsize 16, out_qsize 2\n",
      "2022-03-19 20:28:51,280 : INFO : worker thread finished; awaiting finish of 7 more threads\n",
      "2022-03-19 20:28:51,286 : INFO : worker thread finished; awaiting finish of 6 more threads\n",
      "2022-03-19 20:28:51,289 : INFO : worker thread finished; awaiting finish of 5 more threads\n",
      "2022-03-19 20:28:51,290 : INFO : worker thread finished; awaiting finish of 4 more threads\n",
      "2022-03-19 20:28:51,291 : INFO : worker thread finished; awaiting finish of 3 more threads\n",
      "2022-03-19 20:28:51,293 : INFO : worker thread finished; awaiting finish of 2 more threads\n",
      "2022-03-19 20:28:51,304 : INFO : worker thread finished; awaiting finish of 1 more threads\n",
      "2022-03-19 20:28:51,305 : INFO : worker thread finished; awaiting finish of 0 more threads\n",
      "2022-03-19 20:28:51,305 : INFO : EPOCH - 10 : training on 11847269 raw words (10404282 effective words) took 6.4s, 1634677 effective words/s\n",
      "2022-03-19 20:28:52,329 : INFO : EPOCH 11 - PROGRESS: at 9.45% examples, 979244 words/s, in_qsize 16, out_qsize 0\n",
      "2022-03-19 20:28:53,343 : INFO : EPOCH 11 - PROGRESS: at 20.41% examples, 1052756 words/s, in_qsize 15, out_qsize 0\n",
      "2022-03-19 20:28:54,348 : INFO : EPOCH 11 - PROGRESS: at 34.60% examples, 1190421 words/s, in_qsize 14, out_qsize 1\n",
      "2022-03-19 20:28:55,354 : INFO : EPOCH 11 - PROGRESS: at 49.55% examples, 1278757 words/s, in_qsize 16, out_qsize 1\n",
      "2022-03-19 20:28:56,355 : INFO : EPOCH 11 - PROGRESS: at 65.57% examples, 1355811 words/s, in_qsize 14, out_qsize 1\n",
      "2022-03-19 20:28:57,355 : INFO : EPOCH 11 - PROGRESS: at 80.43% examples, 1387233 words/s, in_qsize 15, out_qsize 0\n",
      "2022-03-19 20:28:58,366 : INFO : EPOCH 11 - PROGRESS: at 93.24% examples, 1377635 words/s, in_qsize 16, out_qsize 1\n",
      "2022-03-19 20:28:58,807 : INFO : worker thread finished; awaiting finish of 7 more threads\n",
      "2022-03-19 20:28:58,812 : INFO : worker thread finished; awaiting finish of 6 more threads\n",
      "2022-03-19 20:28:58,814 : INFO : worker thread finished; awaiting finish of 5 more threads\n",
      "2022-03-19 20:28:58,816 : INFO : worker thread finished; awaiting finish of 4 more threads\n",
      "2022-03-19 20:28:58,824 : INFO : worker thread finished; awaiting finish of 3 more threads\n",
      "2022-03-19 20:28:58,826 : INFO : worker thread finished; awaiting finish of 2 more threads\n",
      "2022-03-19 20:28:58,833 : INFO : worker thread finished; awaiting finish of 1 more threads\n",
      "2022-03-19 20:28:58,836 : INFO : worker thread finished; awaiting finish of 0 more threads\n",
      "2022-03-19 20:28:58,836 : INFO : EPOCH - 11 : training on 11847269 raw words (10404741 effective words) took 7.5s, 1385128 effective words/s\n",
      "2022-03-19 20:28:59,852 : INFO : EPOCH 12 - PROGRESS: at 13.68% examples, 1417580 words/s, in_qsize 15, out_qsize 0\n",
      "2022-03-19 20:29:00,855 : INFO : EPOCH 12 - PROGRESS: at 29.97% examples, 1553201 words/s, in_qsize 15, out_qsize 0\n",
      "2022-03-19 20:29:01,858 : INFO : EPOCH 12 - PROGRESS: at 45.24% examples, 1563346 words/s, in_qsize 16, out_qsize 0\n",
      "2022-03-19 20:29:02,860 : INFO : EPOCH 12 - PROGRESS: at 55.03% examples, 1426996 words/s, in_qsize 15, out_qsize 0\n",
      "2022-03-19 20:29:03,879 : INFO : EPOCH 12 - PROGRESS: at 70.21% examples, 1452067 words/s, in_qsize 15, out_qsize 0\n",
      "2022-03-19 20:29:04,880 : INFO : EPOCH 12 - PROGRESS: at 84.06% examples, 1449976 words/s, in_qsize 15, out_qsize 0\n",
      "2022-03-19 20:29:05,895 : INFO : EPOCH 12 - PROGRESS: at 95.18% examples, 1405365 words/s, in_qsize 16, out_qsize 1\n",
      "2022-03-19 20:29:06,287 : INFO : worker thread finished; awaiting finish of 7 more threads\n",
      "2022-03-19 20:29:06,292 : INFO : worker thread finished; awaiting finish of 6 more threads\n",
      "2022-03-19 20:29:06,300 : INFO : worker thread finished; awaiting finish of 5 more threads\n",
      "2022-03-19 20:29:06,304 : INFO : worker thread finished; awaiting finish of 4 more threads\n",
      "2022-03-19 20:29:06,325 : INFO : worker thread finished; awaiting finish of 3 more threads\n",
      "2022-03-19 20:29:06,327 : INFO : worker thread finished; awaiting finish of 2 more threads\n",
      "2022-03-19 20:29:06,328 : INFO : worker thread finished; awaiting finish of 1 more threads\n",
      "2022-03-19 20:29:06,334 : INFO : worker thread finished; awaiting finish of 0 more threads\n",
      "2022-03-19 20:29:06,335 : INFO : EPOCH - 12 : training on 11847269 raw words (10404060 effective words) took 7.5s, 1389798 effective words/s\n",
      "2022-03-19 20:29:07,369 : INFO : EPOCH 13 - PROGRESS: at 9.79% examples, 1000738 words/s, in_qsize 13, out_qsize 2\n",
      "2022-03-19 20:29:08,371 : INFO : EPOCH 13 - PROGRESS: at 24.04% examples, 1239105 words/s, in_qsize 15, out_qsize 0\n",
      "2022-03-19 20:29:09,382 : INFO : EPOCH 13 - PROGRESS: at 41.45% examples, 1422619 words/s, in_qsize 14, out_qsize 1\n",
      "2022-03-19 20:29:10,391 : INFO : EPOCH 13 - PROGRESS: at 58.31% examples, 1501870 words/s, in_qsize 14, out_qsize 1\n",
      "2022-03-19 20:29:11,391 : INFO : EPOCH 13 - PROGRESS: at 75.95% examples, 1567802 words/s, in_qsize 15, out_qsize 0\n",
      "2022-03-19 20:29:12,394 : INFO : EPOCH 13 - PROGRESS: at 92.15% examples, 1586501 words/s, in_qsize 16, out_qsize 1\n",
      "2022-03-19 20:29:12,916 : INFO : worker thread finished; awaiting finish of 7 more threads\n",
      "2022-03-19 20:29:12,921 : INFO : worker thread finished; awaiting finish of 6 more threads\n",
      "2022-03-19 20:29:12,923 : INFO : worker thread finished; awaiting finish of 5 more threads\n",
      "2022-03-19 20:29:12,924 : INFO : worker thread finished; awaiting finish of 4 more threads\n",
      "2022-03-19 20:29:12,931 : INFO : worker thread finished; awaiting finish of 3 more threads\n",
      "2022-03-19 20:29:12,935 : INFO : worker thread finished; awaiting finish of 2 more threads\n",
      "2022-03-19 20:29:12,936 : INFO : worker thread finished; awaiting finish of 1 more threads\n",
      "2022-03-19 20:29:12,947 : INFO : worker thread finished; awaiting finish of 0 more threads\n",
      "2022-03-19 20:29:12,948 : INFO : EPOCH - 13 : training on 11847269 raw words (10403377 effective words) took 6.6s, 1577342 effective words/s\n",
      "2022-03-19 20:29:13,977 : INFO : EPOCH 14 - PROGRESS: at 13.68% examples, 1400268 words/s, in_qsize 12, out_qsize 3\n",
      "2022-03-19 20:29:14,985 : INFO : EPOCH 14 - PROGRESS: at 30.65% examples, 1575210 words/s, in_qsize 14, out_qsize 1\n",
      "2022-03-19 20:29:15,985 : INFO : EPOCH 14 - PROGRESS: at 47.95% examples, 1649661 words/s, in_qsize 15, out_qsize 0\n",
      "2022-03-19 20:29:16,987 : INFO : EPOCH 14 - PROGRESS: at 65.65% examples, 1697040 words/s, in_qsize 16, out_qsize 0\n",
      "2022-03-19 20:29:17,992 : INFO : EPOCH 14 - PROGRESS: at 83.03% examples, 1717455 words/s, in_qsize 15, out_qsize 0\n",
      "2022-03-19 20:29:18,992 : INFO : EPOCH 14 - PROGRESS: at 99.47% examples, 1716393 words/s, in_qsize 7, out_qsize 1\n",
      "2022-03-19 20:29:18,995 : INFO : worker thread finished; awaiting finish of 7 more threads\n",
      "2022-03-19 20:29:19,004 : INFO : worker thread finished; awaiting finish of 6 more threads\n",
      "2022-03-19 20:29:19,005 : INFO : worker thread finished; awaiting finish of 5 more threads\n",
      "2022-03-19 20:29:19,006 : INFO : worker thread finished; awaiting finish of 4 more threads\n",
      "2022-03-19 20:29:19,009 : INFO : worker thread finished; awaiting finish of 3 more threads\n",
      "2022-03-19 20:29:19,013 : INFO : worker thread finished; awaiting finish of 2 more threads\n",
      "2022-03-19 20:29:19,015 : INFO : worker thread finished; awaiting finish of 1 more threads\n",
      "2022-03-19 20:29:19,026 : INFO : worker thread finished; awaiting finish of 0 more threads\n",
      "2022-03-19 20:29:19,027 : INFO : EPOCH - 14 : training on 11847269 raw words (10405866 effective words) took 6.1s, 1715714 effective words/s\n",
      "2022-03-19 20:29:20,047 : INFO : EPOCH 15 - PROGRESS: at 12.24% examples, 1264553 words/s, in_qsize 16, out_qsize 0\n",
      "2022-03-19 20:29:21,048 : INFO : EPOCH 15 - PROGRESS: at 26.66% examples, 1381601 words/s, in_qsize 14, out_qsize 1\n",
      "2022-03-19 20:29:22,065 : INFO : EPOCH 15 - PROGRESS: at 40.86% examples, 1404666 words/s, in_qsize 12, out_qsize 3\n",
      "2022-03-19 20:29:23,149 : INFO : EPOCH 15 - PROGRESS: at 54.61% examples, 1382442 words/s, in_qsize 15, out_qsize 0\n",
      "2022-03-19 20:29:24,158 : INFO : EPOCH 15 - PROGRESS: at 70.12% examples, 1425503 words/s, in_qsize 15, out_qsize 0\n",
      "2022-03-19 20:29:25,159 : INFO : EPOCH 15 - PROGRESS: at 82.53% examples, 1403234 words/s, in_qsize 15, out_qsize 0\n",
      "2022-03-19 20:29:26,160 : INFO : EPOCH 15 - PROGRESS: at 96.61% examples, 1411790 words/s, in_qsize 15, out_qsize 0\n",
      "2022-03-19 20:29:26,359 : INFO : worker thread finished; awaiting finish of 7 more threads\n",
      "2022-03-19 20:29:26,373 : INFO : worker thread finished; awaiting finish of 6 more threads\n",
      "2022-03-19 20:29:26,377 : INFO : worker thread finished; awaiting finish of 5 more threads\n",
      "2022-03-19 20:29:26,384 : INFO : worker thread finished; awaiting finish of 4 more threads\n",
      "2022-03-19 20:29:26,388 : INFO : worker thread finished; awaiting finish of 3 more threads\n",
      "2022-03-19 20:29:26,389 : INFO : worker thread finished; awaiting finish of 2 more threads\n",
      "2022-03-19 20:29:26,401 : INFO : worker thread finished; awaiting finish of 1 more threads\n",
      "2022-03-19 20:29:26,405 : INFO : worker thread finished; awaiting finish of 0 more threads\n",
      "2022-03-19 20:29:26,406 : INFO : EPOCH - 15 : training on 11847269 raw words (10404521 effective words) took 7.4s, 1412698 effective words/s\n",
      "2022-03-19 20:29:27,435 : INFO : EPOCH 16 - PROGRESS: at 12.33% examples, 1262830 words/s, in_qsize 14, out_qsize 1\n",
      "2022-03-19 20:29:28,444 : INFO : EPOCH 16 - PROGRESS: at 26.07% examples, 1340719 words/s, in_qsize 14, out_qsize 1\n",
      "2022-03-19 20:29:29,448 : INFO : EPOCH 16 - PROGRESS: at 40.94% examples, 1406412 words/s, in_qsize 15, out_qsize 0\n",
      "2022-03-19 20:29:30,455 : INFO : EPOCH 16 - PROGRESS: at 55.70% examples, 1436059 words/s, in_qsize 15, out_qsize 0\n",
      "2022-03-19 20:29:31,502 : INFO : EPOCH 16 - PROGRESS: at 68.77% examples, 1408083 words/s, in_qsize 15, out_qsize 0\n",
      "2022-03-19 20:29:32,506 : INFO : EPOCH 16 - PROGRESS: at 75.35% examples, 1288139 words/s, in_qsize 15, out_qsize 0\n",
      "2022-03-19 20:29:33,507 : INFO : EPOCH 16 - PROGRESS: at 86.08% examples, 1263412 words/s, in_qsize 14, out_qsize 1\n",
      "2022-03-19 20:29:34,414 : INFO : worker thread finished; awaiting finish of 7 more threads\n",
      "2022-03-19 20:29:34,428 : INFO : worker thread finished; awaiting finish of 6 more threads\n",
      "2022-03-19 20:29:34,429 : INFO : worker thread finished; awaiting finish of 5 more threads\n",
      "2022-03-19 20:29:34,432 : INFO : worker thread finished; awaiting finish of 4 more threads\n",
      "2022-03-19 20:29:34,434 : INFO : worker thread finished; awaiting finish of 3 more threads\n",
      "2022-03-19 20:29:34,436 : INFO : worker thread finished; awaiting finish of 2 more threads\n",
      "2022-03-19 20:29:34,438 : INFO : worker thread finished; awaiting finish of 1 more threads\n",
      "2022-03-19 20:29:34,440 : INFO : worker thread finished; awaiting finish of 0 more threads\n",
      "2022-03-19 20:29:34,440 : INFO : EPOCH - 16 : training on 11847269 raw words (10403961 effective words) took 8.0s, 1297373 effective words/s\n",
      "2022-03-19 20:29:35,468 : INFO : EPOCH 17 - PROGRESS: at 17.12% examples, 1769886 words/s, in_qsize 15, out_qsize 0\n",
      "2022-03-19 20:29:36,471 : INFO : EPOCH 17 - PROGRESS: at 34.35% examples, 1776972 words/s, in_qsize 15, out_qsize 0\n",
      "2022-03-19 20:29:37,475 : INFO : EPOCH 17 - PROGRESS: at 51.65% examples, 1781988 words/s, in_qsize 15, out_qsize 0\n",
      "2022-03-19 20:29:38,487 : INFO : EPOCH 17 - PROGRESS: at 69.11% examples, 1785441 words/s, in_qsize 14, out_qsize 1\n",
      "2022-03-19 20:29:39,498 : INFO : EPOCH 17 - PROGRESS: at 80.93% examples, 1671158 words/s, in_qsize 15, out_qsize 0\n",
      "2022-03-19 20:29:40,505 : INFO : EPOCH 17 - PROGRESS: at 93.57% examples, 1610487 words/s, in_qsize 14, out_qsize 1\n",
      "2022-03-19 20:29:40,937 : INFO : worker thread finished; awaiting finish of 7 more threads\n",
      "2022-03-19 20:29:40,946 : INFO : worker thread finished; awaiting finish of 6 more threads\n",
      "2022-03-19 20:29:40,948 : INFO : worker thread finished; awaiting finish of 5 more threads\n",
      "2022-03-19 20:29:40,952 : INFO : worker thread finished; awaiting finish of 4 more threads\n",
      "2022-03-19 20:29:40,958 : INFO : worker thread finished; awaiting finish of 3 more threads\n",
      "2022-03-19 20:29:40,959 : INFO : worker thread finished; awaiting finish of 2 more threads\n",
      "2022-03-19 20:29:40,968 : INFO : worker thread finished; awaiting finish of 1 more threads\n",
      "2022-03-19 20:29:40,976 : INFO : worker thread finished; awaiting finish of 0 more threads\n",
      "2022-03-19 20:29:40,977 : INFO : EPOCH - 17 : training on 11847269 raw words (10404457 effective words) took 6.5s, 1596697 effective words/s\n",
      "2022-03-19 20:29:41,995 : INFO : EPOCH 18 - PROGRESS: at 14.27% examples, 1470751 words/s, in_qsize 15, out_qsize 0\n",
      "2022-03-19 20:29:43,001 : INFO : EPOCH 18 - PROGRESS: at 27.01% examples, 1394040 words/s, in_qsize 14, out_qsize 1\n",
      "2022-03-19 20:29:44,004 : INFO : EPOCH 18 - PROGRESS: at 42.46% examples, 1463282 words/s, in_qsize 14, out_qsize 1\n",
      "2022-03-19 20:29:45,018 : INFO : EPOCH 18 - PROGRESS: at 58.89% examples, 1519895 words/s, in_qsize 15, out_qsize 0\n",
      "2022-03-19 20:29:46,035 : INFO : EPOCH 18 - PROGRESS: at 75.78% examples, 1561451 words/s, in_qsize 14, out_qsize 1\n",
      "2022-03-19 20:29:47,059 : INFO : EPOCH 18 - PROGRESS: at 89.61% examples, 1535066 words/s, in_qsize 15, out_qsize 0\n",
      "2022-03-19 20:29:47,992 : INFO : worker thread finished; awaiting finish of 7 more threads\n",
      "2022-03-19 20:29:47,996 : INFO : worker thread finished; awaiting finish of 6 more threads\n",
      "2022-03-19 20:29:47,998 : INFO : worker thread finished; awaiting finish of 5 more threads\n",
      "2022-03-19 20:29:47,999 : INFO : worker thread finished; awaiting finish of 4 more threads\n",
      "2022-03-19 20:29:48,005 : INFO : worker thread finished; awaiting finish of 3 more threads\n",
      "2022-03-19 20:29:48,012 : INFO : worker thread finished; awaiting finish of 2 more threads\n",
      "2022-03-19 20:29:48,015 : INFO : worker thread finished; awaiting finish of 1 more threads\n",
      "2022-03-19 20:29:48,016 : INFO : worker thread finished; awaiting finish of 0 more threads\n",
      "2022-03-19 20:29:48,017 : INFO : EPOCH - 18 : training on 11847269 raw words (10404104 effective words) took 7.0s, 1479908 effective words/s\n",
      "2022-03-19 20:29:49,032 : INFO : EPOCH 19 - PROGRESS: at 11.31% examples, 1172077 words/s, in_qsize 16, out_qsize 0\n",
      "2022-03-19 20:29:50,046 : INFO : EPOCH 19 - PROGRESS: at 23.29% examples, 1201059 words/s, in_qsize 15, out_qsize 0\n",
      "2022-03-19 20:29:51,059 : INFO : EPOCH 19 - PROGRESS: at 33.68% examples, 1155852 words/s, in_qsize 14, out_qsize 1\n",
      "2022-03-19 20:29:52,063 : INFO : EPOCH 19 - PROGRESS: at 48.37% examples, 1246648 words/s, in_qsize 13, out_qsize 2\n",
      "2022-03-19 20:29:53,090 : INFO : EPOCH 19 - PROGRESS: at 62.77% examples, 1290478 words/s, in_qsize 13, out_qsize 2\n",
      "2022-03-19 20:29:54,098 : INFO : EPOCH 19 - PROGRESS: at 73.58% examples, 1261353 words/s, in_qsize 15, out_qsize 0\n",
      "2022-03-19 20:29:55,098 : INFO : EPOCH 19 - PROGRESS: at 84.14% examples, 1238190 words/s, in_qsize 15, out_qsize 0\n",
      "2022-03-19 20:29:56,102 : INFO : EPOCH 19 - PROGRESS: at 98.21% examples, 1265756 words/s, in_qsize 15, out_qsize 0\n",
      "2022-03-19 20:29:56,179 : INFO : worker thread finished; awaiting finish of 7 more threads\n",
      "2022-03-19 20:29:56,183 : INFO : worker thread finished; awaiting finish of 6 more threads\n",
      "2022-03-19 20:29:56,185 : INFO : worker thread finished; awaiting finish of 5 more threads\n",
      "2022-03-19 20:29:56,186 : INFO : worker thread finished; awaiting finish of 4 more threads\n",
      "2022-03-19 20:29:56,193 : INFO : worker thread finished; awaiting finish of 3 more threads\n",
      "2022-03-19 20:29:56,198 : INFO : worker thread finished; awaiting finish of 2 more threads\n",
      "2022-03-19 20:29:56,204 : INFO : worker thread finished; awaiting finish of 1 more threads\n",
      "2022-03-19 20:29:56,207 : INFO : worker thread finished; awaiting finish of 0 more threads\n",
      "2022-03-19 20:29:56,208 : INFO : EPOCH - 19 : training on 11847269 raw words (10405255 effective words) took 8.2s, 1272157 effective words/s\n",
      "2022-03-19 20:29:57,238 : INFO : EPOCH 20 - PROGRESS: at 13.43% examples, 1376919 words/s, in_qsize 14, out_qsize 1\n",
      "2022-03-19 20:29:58,238 : INFO : EPOCH 20 - PROGRESS: at 28.28% examples, 1459481 words/s, in_qsize 14, out_qsize 1\n",
      "2022-03-19 20:29:59,242 : INFO : EPOCH 20 - PROGRESS: at 44.40% examples, 1529694 words/s, in_qsize 15, out_qsize 0\n",
      "2022-03-19 20:30:00,256 : INFO : EPOCH 20 - PROGRESS: at 58.73% examples, 1515215 words/s, in_qsize 15, out_qsize 0\n",
      "2022-03-19 20:30:01,263 : INFO : EPOCH 20 - PROGRESS: at 72.82% examples, 1503264 words/s, in_qsize 15, out_qsize 0\n",
      "2022-03-19 20:30:02,264 : INFO : EPOCH 20 - PROGRESS: at 83.21% examples, 1432992 words/s, in_qsize 16, out_qsize 0\n",
      "2022-03-19 20:30:03,266 : INFO : EPOCH 20 - PROGRESS: at 91.72% examples, 1354867 words/s, in_qsize 15, out_qsize 0\n",
      "2022-03-19 20:30:03,969 : INFO : worker thread finished; awaiting finish of 7 more threads\n",
      "2022-03-19 20:30:03,973 : INFO : worker thread finished; awaiting finish of 6 more threads\n",
      "2022-03-19 20:30:03,981 : INFO : worker thread finished; awaiting finish of 5 more threads\n",
      "2022-03-19 20:30:03,981 : INFO : worker thread finished; awaiting finish of 4 more threads\n",
      "2022-03-19 20:30:03,984 : INFO : worker thread finished; awaiting finish of 3 more threads\n",
      "2022-03-19 20:30:03,985 : INFO : worker thread finished; awaiting finish of 2 more threads\n",
      "2022-03-19 20:30:03,999 : INFO : worker thread finished; awaiting finish of 1 more threads\n",
      "2022-03-19 20:30:04,004 : INFO : worker thread finished; awaiting finish of 0 more threads\n",
      "2022-03-19 20:30:04,004 : INFO : EPOCH - 20 : training on 11847269 raw words (10404265 effective words) took 7.8s, 1337231 effective words/s\n",
      "2022-03-19 20:30:05,016 : INFO : EPOCH 21 - PROGRESS: at 11.40% examples, 1184128 words/s, in_qsize 15, out_qsize 0\n",
      "2022-03-19 20:30:06,018 : INFO : EPOCH 21 - PROGRESS: at 26.16% examples, 1358144 words/s, in_qsize 14, out_qsize 2\n",
      "2022-03-19 20:30:07,027 : INFO : EPOCH 21 - PROGRESS: at 40.35% examples, 1393170 words/s, in_qsize 15, out_qsize 0\n",
      "2022-03-19 20:30:08,039 : INFO : EPOCH 21 - PROGRESS: at 52.07% examples, 1345861 words/s, in_qsize 16, out_qsize 0\n",
      "2022-03-19 20:30:09,045 : INFO : EPOCH 21 - PROGRESS: at 65.32% examples, 1350650 words/s, in_qsize 13, out_qsize 2\n",
      "2022-03-19 20:30:10,053 : INFO : EPOCH 21 - PROGRESS: at 79.08% examples, 1362282 words/s, in_qsize 14, out_qsize 1\n",
      "2022-03-19 20:30:11,117 : INFO : EPOCH 21 - PROGRESS: at 93.57% examples, 1370652 words/s, in_qsize 12, out_qsize 3\n",
      "2022-03-19 20:30:11,573 : INFO : worker thread finished; awaiting finish of 7 more threads\n",
      "2022-03-19 20:30:11,576 : INFO : worker thread finished; awaiting finish of 6 more threads\n",
      "2022-03-19 20:30:11,587 : INFO : worker thread finished; awaiting finish of 5 more threads\n",
      "2022-03-19 20:30:11,593 : INFO : worker thread finished; awaiting finish of 4 more threads\n",
      "2022-03-19 20:30:11,597 : INFO : worker thread finished; awaiting finish of 3 more threads\n",
      "2022-03-19 20:30:11,600 : INFO : worker thread finished; awaiting finish of 2 more threads\n",
      "2022-03-19 20:30:11,601 : INFO : worker thread finished; awaiting finish of 1 more threads\n",
      "2022-03-19 20:30:11,604 : INFO : worker thread finished; awaiting finish of 0 more threads\n",
      "2022-03-19 20:30:11,605 : INFO : EPOCH - 21 : training on 11847269 raw words (10403930 effective words) took 7.6s, 1370842 effective words/s\n",
      "2022-03-19 20:30:12,617 : INFO : EPOCH 22 - PROGRESS: at 15.28% examples, 1582999 words/s, in_qsize 13, out_qsize 2\n",
      "2022-03-19 20:30:13,619 : INFO : EPOCH 22 - PROGRESS: at 30.39% examples, 1575752 words/s, in_qsize 15, out_qsize 0\n",
      "2022-03-19 20:30:14,627 : INFO : EPOCH 22 - PROGRESS: at 46.09% examples, 1590454 words/s, in_qsize 14, out_qsize 1\n",
      "2022-03-19 20:30:15,628 : INFO : EPOCH 22 - PROGRESS: at 60.58% examples, 1570053 words/s, in_qsize 14, out_qsize 1\n",
      "2022-03-19 20:30:16,634 : INFO : EPOCH 22 - PROGRESS: at 74.00% examples, 1533571 words/s, in_qsize 15, out_qsize 0\n",
      "2022-03-19 20:30:17,646 : INFO : EPOCH 22 - PROGRESS: at 87.17% examples, 1503236 words/s, in_qsize 16, out_qsize 1\n",
      "2022-03-19 20:30:18,479 : INFO : worker thread finished; awaiting finish of 7 more threads\n",
      "2022-03-19 20:30:18,480 : INFO : worker thread finished; awaiting finish of 6 more threads\n",
      "2022-03-19 20:30:18,482 : INFO : worker thread finished; awaiting finish of 5 more threads\n",
      "2022-03-19 20:30:18,483 : INFO : worker thread finished; awaiting finish of 4 more threads\n",
      "2022-03-19 20:30:18,484 : INFO : worker thread finished; awaiting finish of 3 more threads\n",
      "2022-03-19 20:30:18,490 : INFO : worker thread finished; awaiting finish of 2 more threads\n",
      "2022-03-19 20:30:18,494 : INFO : worker thread finished; awaiting finish of 1 more threads\n",
      "2022-03-19 20:30:18,498 : INFO : worker thread finished; awaiting finish of 0 more threads\n",
      "2022-03-19 20:30:18,498 : INFO : EPOCH - 22 : training on 11847269 raw words (10405207 effective words) took 6.9s, 1511230 effective words/s\n",
      "2022-03-19 20:30:19,516 : INFO : EPOCH 23 - PROGRESS: at 16.37% examples, 1694667 words/s, in_qsize 15, out_qsize 0\n",
      "2022-03-19 20:30:20,520 : INFO : EPOCH 23 - PROGRESS: at 33.26% examples, 1721399 words/s, in_qsize 14, out_qsize 1\n",
      "2022-03-19 20:30:21,524 : INFO : EPOCH 23 - PROGRESS: at 50.39% examples, 1739373 words/s, in_qsize 14, out_qsize 1\n",
      "2022-03-19 20:30:22,528 : INFO : EPOCH 23 - PROGRESS: at 66.08% examples, 1711431 words/s, in_qsize 15, out_qsize 0\n",
      "2022-03-19 20:30:23,535 : INFO : EPOCH 23 - PROGRESS: at 81.27% examples, 1682864 words/s, in_qsize 14, out_qsize 1\n",
      "2022-03-19 20:30:24,541 : INFO : EPOCH 23 - PROGRESS: at 99.13% examples, 1710589 words/s, in_qsize 10, out_qsize 1\n",
      "2022-03-19 20:30:24,563 : INFO : worker thread finished; awaiting finish of 7 more threads\n",
      "2022-03-19 20:30:24,564 : INFO : worker thread finished; awaiting finish of 6 more threads\n",
      "2022-03-19 20:30:24,567 : INFO : worker thread finished; awaiting finish of 5 more threads\n",
      "2022-03-19 20:30:24,570 : INFO : worker thread finished; awaiting finish of 4 more threads\n",
      "2022-03-19 20:30:24,574 : INFO : worker thread finished; awaiting finish of 3 more threads\n",
      "2022-03-19 20:30:24,576 : INFO : worker thread finished; awaiting finish of 2 more threads\n",
      "2022-03-19 20:30:24,584 : INFO : worker thread finished; awaiting finish of 1 more threads\n",
      "2022-03-19 20:30:24,590 : INFO : worker thread finished; awaiting finish of 0 more threads\n",
      "2022-03-19 20:30:24,590 : INFO : EPOCH - 23 : training on 11847269 raw words (10404771 effective words) took 6.1s, 1711493 effective words/s\n",
      "2022-03-19 20:30:25,611 : INFO : EPOCH 24 - PROGRESS: at 13.93% examples, 1439251 words/s, in_qsize 15, out_qsize 0\n",
      "2022-03-19 20:30:26,620 : INFO : EPOCH 24 - PROGRESS: at 31.99% examples, 1650569 words/s, in_qsize 15, out_qsize 0\n",
      "2022-03-19 20:30:27,621 : INFO : EPOCH 24 - PROGRESS: at 49.72% examples, 1713551 words/s, in_qsize 15, out_qsize 0\n",
      "2022-03-19 20:30:28,624 : INFO : EPOCH 24 - PROGRESS: at 67.51% examples, 1746774 words/s, in_qsize 15, out_qsize 0\n",
      "2022-03-19 20:30:29,631 : INFO : EPOCH 24 - PROGRESS: at 82.87% examples, 1714962 words/s, in_qsize 15, out_qsize 0\n",
      "2022-03-19 20:30:30,607 : INFO : worker thread finished; awaiting finish of 7 more threads\n",
      "2022-03-19 20:30:30,610 : INFO : worker thread finished; awaiting finish of 6 more threads\n",
      "2022-03-19 20:30:30,613 : INFO : worker thread finished; awaiting finish of 5 more threads\n",
      "2022-03-19 20:30:30,615 : INFO : worker thread finished; awaiting finish of 4 more threads\n",
      "2022-03-19 20:30:30,616 : INFO : worker thread finished; awaiting finish of 3 more threads\n",
      "2022-03-19 20:30:30,627 : INFO : worker thread finished; awaiting finish of 2 more threads\n",
      "2022-03-19 20:30:30,628 : INFO : worker thread finished; awaiting finish of 1 more threads\n",
      "2022-03-19 20:30:30,633 : INFO : EPOCH 24 - PROGRESS: at 100.00% examples, 1725728 words/s, in_qsize 0, out_qsize 1\n",
      "2022-03-19 20:30:30,633 : INFO : worker thread finished; awaiting finish of 0 more threads\n",
      "2022-03-19 20:30:30,634 : INFO : EPOCH - 24 : training on 11847269 raw words (10404464 effective words) took 6.0s, 1725576 effective words/s\n",
      "2022-03-19 20:30:31,644 : INFO : EPOCH 25 - PROGRESS: at 17.55% examples, 1823608 words/s, in_qsize 16, out_qsize 0\n",
      "2022-03-19 20:30:32,647 : INFO : EPOCH 25 - PROGRESS: at 35.19% examples, 1826958 words/s, in_qsize 15, out_qsize 0\n",
      "2022-03-19 20:30:33,649 : INFO : EPOCH 25 - PROGRESS: at 53.18% examples, 1840053 words/s, in_qsize 15, out_qsize 0\n",
      "2022-03-19 20:30:34,652 : INFO : EPOCH 25 - PROGRESS: at 69.03% examples, 1791330 words/s, in_qsize 14, out_qsize 1\n",
      "2022-03-19 20:30:35,659 : INFO : EPOCH 25 - PROGRESS: at 84.57% examples, 1753624 words/s, in_qsize 13, out_qsize 2\n",
      "2022-03-19 20:30:36,637 : INFO : worker thread finished; awaiting finish of 7 more threads\n",
      "2022-03-19 20:30:36,639 : INFO : worker thread finished; awaiting finish of 6 more threads\n",
      "2022-03-19 20:30:36,641 : INFO : worker thread finished; awaiting finish of 5 more threads\n",
      "2022-03-19 20:30:36,644 : INFO : worker thread finished; awaiting finish of 4 more threads\n",
      "2022-03-19 20:30:36,650 : INFO : worker thread finished; awaiting finish of 3 more threads\n",
      "2022-03-19 20:30:36,654 : INFO : worker thread finished; awaiting finish of 2 more threads\n",
      "2022-03-19 20:30:36,656 : INFO : worker thread finished; awaiting finish of 1 more threads\n",
      "2022-03-19 20:30:36,664 : INFO : EPOCH 25 - PROGRESS: at 100.00% examples, 1727976 words/s, in_qsize 0, out_qsize 1\n",
      "2022-03-19 20:30:36,664 : INFO : worker thread finished; awaiting finish of 0 more threads\n",
      "2022-03-19 20:30:36,665 : INFO : EPOCH - 25 : training on 11847269 raw words (10404804 effective words) took 6.0s, 1727798 effective words/s\n",
      "2022-03-19 20:30:37,677 : INFO : EPOCH 26 - PROGRESS: at 17.71% examples, 1838126 words/s, in_qsize 14, out_qsize 1\n",
      "2022-03-19 20:30:38,685 : INFO : EPOCH 26 - PROGRESS: at 35.69% examples, 1846797 words/s, in_qsize 15, out_qsize 0\n",
      "2022-03-19 20:30:39,689 : INFO : EPOCH 26 - PROGRESS: at 53.76% examples, 1854441 words/s, in_qsize 15, out_qsize 1\n",
      "2022-03-19 20:30:40,698 : INFO : EPOCH 26 - PROGRESS: at 71.39% examples, 1845712 words/s, in_qsize 15, out_qsize 0\n",
      "2022-03-19 20:30:41,705 : INFO : EPOCH 26 - PROGRESS: at 88.68% examples, 1833988 words/s, in_qsize 15, out_qsize 0\n",
      "2022-03-19 20:30:42,422 : INFO : worker thread finished; awaiting finish of 7 more threads\n",
      "2022-03-19 20:30:42,423 : INFO : worker thread finished; awaiting finish of 6 more threads\n",
      "2022-03-19 20:30:42,424 : INFO : worker thread finished; awaiting finish of 5 more threads\n",
      "2022-03-19 20:30:42,425 : INFO : worker thread finished; awaiting finish of 4 more threads\n",
      "2022-03-19 20:30:42,427 : INFO : worker thread finished; awaiting finish of 3 more threads\n",
      "2022-03-19 20:30:42,428 : INFO : worker thread finished; awaiting finish of 2 more threads\n",
      "2022-03-19 20:30:42,434 : INFO : worker thread finished; awaiting finish of 1 more threads\n",
      "2022-03-19 20:30:42,441 : INFO : worker thread finished; awaiting finish of 0 more threads\n",
      "2022-03-19 20:30:42,442 : INFO : EPOCH - 26 : training on 11847269 raw words (10403830 effective words) took 5.8s, 1803908 effective words/s\n",
      "2022-03-19 20:30:43,453 : INFO : EPOCH 27 - PROGRESS: at 15.70% examples, 1626478 words/s, in_qsize 16, out_qsize 0\n",
      "2022-03-19 20:30:44,454 : INFO : EPOCH 27 - PROGRESS: at 33.68% examples, 1747122 words/s, in_qsize 15, out_qsize 0\n",
      "2022-03-19 20:30:45,457 : INFO : EPOCH 27 - PROGRESS: at 51.48% examples, 1780635 words/s, in_qsize 15, out_qsize 1\n",
      "2022-03-19 20:30:46,458 : INFO : EPOCH 27 - PROGRESS: at 69.37% examples, 1800342 words/s, in_qsize 15, out_qsize 0\n",
      "2022-03-19 20:30:47,468 : INFO : EPOCH 27 - PROGRESS: at 87.26% examples, 1808570 words/s, in_qsize 15, out_qsize 0\n",
      "2022-03-19 20:30:48,147 : INFO : worker thread finished; awaiting finish of 7 more threads\n",
      "2022-03-19 20:30:48,148 : INFO : worker thread finished; awaiting finish of 6 more threads\n",
      "2022-03-19 20:30:48,152 : INFO : worker thread finished; awaiting finish of 5 more threads\n",
      "2022-03-19 20:30:48,154 : INFO : worker thread finished; awaiting finish of 4 more threads\n",
      "2022-03-19 20:30:48,156 : INFO : worker thread finished; awaiting finish of 3 more threads\n",
      "2022-03-19 20:30:48,162 : INFO : worker thread finished; awaiting finish of 2 more threads\n",
      "2022-03-19 20:30:48,167 : INFO : worker thread finished; awaiting finish of 1 more threads\n",
      "2022-03-19 20:30:48,170 : INFO : worker thread finished; awaiting finish of 0 more threads\n",
      "2022-03-19 20:30:48,171 : INFO : EPOCH - 27 : training on 11847269 raw words (10406200 effective words) took 5.7s, 1818760 effective words/s\n",
      "2022-03-19 20:30:49,184 : INFO : EPOCH 28 - PROGRESS: at 14.69% examples, 1521539 words/s, in_qsize 14, out_qsize 1\n",
      "2022-03-19 20:30:50,185 : INFO : EPOCH 28 - PROGRESS: at 31.32% examples, 1623996 words/s, in_qsize 15, out_qsize 0\n",
      "2022-03-19 20:30:51,186 : INFO : EPOCH 28 - PROGRESS: at 48.96% examples, 1693517 words/s, in_qsize 15, out_qsize 0\n",
      "2022-03-19 20:30:52,186 : INFO : EPOCH 28 - PROGRESS: at 66.75% examples, 1733164 words/s, in_qsize 15, out_qsize 0\n",
      "2022-03-19 20:30:53,190 : INFO : EPOCH 28 - PROGRESS: at 84.57% examples, 1755638 words/s, in_qsize 14, out_qsize 1\n",
      "2022-03-19 20:30:54,044 : INFO : worker thread finished; awaiting finish of 7 more threads\n",
      "2022-03-19 20:30:54,051 : INFO : worker thread finished; awaiting finish of 6 more threads\n",
      "2022-03-19 20:30:54,054 : INFO : worker thread finished; awaiting finish of 5 more threads\n",
      "2022-03-19 20:30:54,056 : INFO : worker thread finished; awaiting finish of 4 more threads\n",
      "2022-03-19 20:30:54,058 : INFO : worker thread finished; awaiting finish of 3 more threads\n",
      "2022-03-19 20:30:54,066 : INFO : worker thread finished; awaiting finish of 2 more threads\n",
      "2022-03-19 20:30:54,067 : INFO : worker thread finished; awaiting finish of 1 more threads\n",
      "2022-03-19 20:30:54,075 : INFO : worker thread finished; awaiting finish of 0 more threads\n",
      "2022-03-19 20:30:54,075 : INFO : EPOCH - 28 : training on 11847269 raw words (10404457 effective words) took 5.9s, 1764854 effective words/s\n",
      "2022-03-19 20:30:55,085 : INFO : EPOCH 29 - PROGRESS: at 15.78% examples, 1639691 words/s, in_qsize 15, out_qsize 0\n",
      "2022-03-19 20:30:56,089 : INFO : EPOCH 29 - PROGRESS: at 31.15% examples, 1615412 words/s, in_qsize 15, out_qsize 0\n",
      "2022-03-19 20:30:57,095 : INFO : EPOCH 29 - PROGRESS: at 48.37% examples, 1670648 words/s, in_qsize 16, out_qsize 0\n",
      "2022-03-19 20:30:58,108 : INFO : EPOCH 29 - PROGRESS: at 66.67% examples, 1723613 words/s, in_qsize 15, out_qsize 0\n",
      "2022-03-19 20:30:59,120 : INFO : EPOCH 29 - PROGRESS: at 84.82% examples, 1752219 words/s, in_qsize 15, out_qsize 0\n",
      "2022-03-19 20:30:59,937 : INFO : worker thread finished; awaiting finish of 7 more threads\n",
      "2022-03-19 20:30:59,940 : INFO : worker thread finished; awaiting finish of 6 more threads\n",
      "2022-03-19 20:30:59,941 : INFO : worker thread finished; awaiting finish of 5 more threads\n",
      "2022-03-19 20:30:59,943 : INFO : worker thread finished; awaiting finish of 4 more threads\n",
      "2022-03-19 20:30:59,949 : INFO : worker thread finished; awaiting finish of 3 more threads\n",
      "2022-03-19 20:30:59,954 : INFO : worker thread finished; awaiting finish of 2 more threads\n",
      "2022-03-19 20:30:59,954 : INFO : worker thread finished; awaiting finish of 1 more threads\n",
      "2022-03-19 20:30:59,961 : INFO : worker thread finished; awaiting finish of 0 more threads\n",
      "2022-03-19 20:30:59,961 : INFO : EPOCH - 29 : training on 11847269 raw words (10404899 effective words) took 5.9s, 1770529 effective words/s\n",
      "2022-03-19 20:31:00,982 : INFO : EPOCH 30 - PROGRESS: at 17.55% examples, 1805026 words/s, in_qsize 15, out_qsize 0\n",
      "2022-03-19 20:31:01,983 : INFO : EPOCH 30 - PROGRESS: at 33.84% examples, 1749065 words/s, in_qsize 15, out_qsize 0\n",
      "2022-03-19 20:31:02,987 : INFO : EPOCH 30 - PROGRESS: at 49.21% examples, 1696773 words/s, in_qsize 15, out_qsize 0\n",
      "2022-03-19 20:31:03,991 : INFO : EPOCH 30 - PROGRESS: at 67.00% examples, 1734010 words/s, in_qsize 14, out_qsize 1\n",
      "2022-03-19 20:31:04,996 : INFO : EPOCH 30 - PROGRESS: at 84.99% examples, 1759172 words/s, in_qsize 15, out_qsize 0\n",
      "2022-03-19 20:31:05,886 : INFO : worker thread finished; awaiting finish of 7 more threads\n",
      "2022-03-19 20:31:05,887 : INFO : worker thread finished; awaiting finish of 6 more threads\n",
      "2022-03-19 20:31:05,890 : INFO : worker thread finished; awaiting finish of 5 more threads\n",
      "2022-03-19 20:31:05,897 : INFO : worker thread finished; awaiting finish of 4 more threads\n",
      "2022-03-19 20:31:05,899 : INFO : worker thread finished; awaiting finish of 3 more threads\n",
      "2022-03-19 20:31:05,908 : INFO : worker thread finished; awaiting finish of 2 more threads\n",
      "2022-03-19 20:31:05,909 : INFO : worker thread finished; awaiting finish of 1 more threads\n",
      "2022-03-19 20:31:05,910 : INFO : worker thread finished; awaiting finish of 0 more threads\n",
      "2022-03-19 20:31:05,910 : INFO : EPOCH - 30 : training on 11847269 raw words (10404808 effective words) took 5.9s, 1751883 effective words/s\n",
      "2022-03-19 20:31:06,926 : INFO : EPOCH 31 - PROGRESS: at 17.38% examples, 1798415 words/s, in_qsize 15, out_qsize 0\n",
      "2022-03-19 20:31:07,931 : INFO : EPOCH 31 - PROGRESS: at 34.68% examples, 1793669 words/s, in_qsize 13, out_qsize 2\n",
      "2022-03-19 20:31:08,933 : INFO : EPOCH 31 - PROGRESS: at 49.89% examples, 1721749 words/s, in_qsize 15, out_qsize 0\n",
      "2022-03-19 20:31:09,938 : INFO : EPOCH 31 - PROGRESS: at 66.75% examples, 1728254 words/s, in_qsize 16, out_qsize 1\n",
      "2022-03-19 20:31:10,939 : INFO : EPOCH 31 - PROGRESS: at 84.82% examples, 1757740 words/s, in_qsize 14, out_qsize 1\n",
      "2022-03-19 20:31:11,754 : INFO : worker thread finished; awaiting finish of 7 more threads\n",
      "2022-03-19 20:31:11,756 : INFO : worker thread finished; awaiting finish of 6 more threads\n",
      "2022-03-19 20:31:11,757 : INFO : worker thread finished; awaiting finish of 5 more threads\n",
      "2022-03-19 20:31:11,759 : INFO : worker thread finished; awaiting finish of 4 more threads\n",
      "2022-03-19 20:31:11,762 : INFO : worker thread finished; awaiting finish of 3 more threads\n",
      "2022-03-19 20:31:11,765 : INFO : worker thread finished; awaiting finish of 2 more threads\n",
      "2022-03-19 20:31:11,766 : INFO : worker thread finished; awaiting finish of 1 more threads\n",
      "2022-03-19 20:31:11,767 : INFO : worker thread finished; awaiting finish of 0 more threads\n",
      "2022-03-19 20:31:11,767 : INFO : EPOCH - 31 : training on 11847269 raw words (10404851 effective words) took 5.8s, 1779487 effective words/s\n",
      "2022-03-19 20:31:12,779 : INFO : EPOCH 32 - PROGRESS: at 17.72% examples, 1839550 words/s, in_qsize 15, out_qsize 0\n",
      "2022-03-19 20:31:13,786 : INFO : EPOCH 32 - PROGRESS: at 33.76% examples, 1746961 words/s, in_qsize 15, out_qsize 0\n",
      "2022-03-19 20:31:14,786 : INFO : EPOCH 32 - PROGRESS: at 50.22% examples, 1735307 words/s, in_qsize 15, out_qsize 0\n",
      "2022-03-19 20:31:15,789 : INFO : EPOCH 32 - PROGRESS: at 65.23% examples, 1691290 words/s, in_qsize 14, out_qsize 1\n",
      "2022-03-19 20:31:16,793 : INFO : EPOCH 32 - PROGRESS: at 83.20% examples, 1725559 words/s, in_qsize 15, out_qsize 0\n",
      "2022-03-19 20:31:17,700 : INFO : worker thread finished; awaiting finish of 7 more threads\n",
      "2022-03-19 20:31:17,705 : INFO : worker thread finished; awaiting finish of 6 more threads\n",
      "2022-03-19 20:31:17,710 : INFO : worker thread finished; awaiting finish of 5 more threads\n",
      "2022-03-19 20:31:17,712 : INFO : worker thread finished; awaiting finish of 4 more threads\n",
      "2022-03-19 20:31:17,713 : INFO : worker thread finished; awaiting finish of 3 more threads\n",
      "2022-03-19 20:31:17,723 : INFO : worker thread finished; awaiting finish of 2 more threads\n",
      "2022-03-19 20:31:17,726 : INFO : worker thread finished; awaiting finish of 1 more threads\n",
      "2022-03-19 20:31:17,727 : INFO : worker thread finished; awaiting finish of 0 more threads\n",
      "2022-03-19 20:31:17,727 : INFO : EPOCH - 32 : training on 11847269 raw words (10403636 effective words) took 5.9s, 1748618 effective words/s\n",
      "2022-03-19 20:31:17,727 : INFO : Word2Vec lifecycle event {'msg': 'training on 379112608 raw words (332944544 effective words) took 210.5s, 1581562 effective words/s', 'datetime': '2022-03-19T20:31:17.727475', 'gensim': '4.1.2', 'python': '3.9.10 | packaged by conda-forge | (main, Feb  1 2022, 21:27:43) \\n[Clang 11.1.0 ]', 'platform': 'macOS-12.3-arm64-arm-64bit', 'event': 'train'}\n"
     ]
    },
    {
     "name": "stdout",
     "output_type": "stream",
     "text": [
      "CPU times: user 16min 16s, sys: 13.7 s, total: 16min 30s\n",
      "Wall time: 3min 30s\n"
     ]
    }
   ],
   "source": [
    "%%time\n",
    "w2v_model.train(documents, total_examples=len(train_ds), epochs=W2V_EPOCH)\n",
    "\n",
    "w2v_dict = {k: w2v_model.wv[k] for k in w2v_model.wv.index_to_key}\n",
    "\n",
    "pickle.dump(w2v_dict, open(W2V_DICT_PKL, 'wb'))"
   ],
   "metadata": {
    "collapsed": false,
    "pycharm": {
     "name": "#%%\n"
    }
   }
  },
  {
   "cell_type": "code",
   "execution_count": 42,
   "outputs": [
    {
     "name": "stderr",
     "output_type": "stream",
     "text": [
      "100%|██████████| 498/498 [00:00<00:00, 20523.34it/s]\n"
     ]
    }
   ],
   "source": [
    "test_lines, test_labels = zip(*[x for x in tqdm(test_ds)])\n",
    "test_lines = [x.numpy().decode() for x in test_lines]\n",
    "test_labels = [x.numpy() for x in test_labels]"
   ],
   "metadata": {
    "collapsed": false,
    "pycharm": {
     "name": "#%%\n"
    }
   }
  },
  {
   "cell_type": "code",
   "execution_count": 8,
   "outputs": [
    {
     "data": {
      "text/plain": "50"
     },
     "execution_count": 8,
     "metadata": {},
     "output_type": "execute_result"
    }
   ],
   "source": [
    "max(len(x) for x in documents)"
   ],
   "metadata": {
    "collapsed": false,
    "pycharm": {
     "name": "#%%\n"
    }
   }
  },
  {
   "cell_type": "code",
   "execution_count": 9,
   "outputs": [
    {
     "data": {
      "text/plain": "20"
     },
     "execution_count": 9,
     "metadata": {},
     "output_type": "execute_result"
    }
   ],
   "source": [
    "max(len(tf.strings.split(x)) for x, y in test_ds)"
   ],
   "metadata": {
    "collapsed": false,
    "pycharm": {
     "name": "#%%\n"
    }
   }
  },
  {
   "cell_type": "code",
   "execution_count": 116,
   "outputs": [],
   "source": [
    "final_dict = {k: v+1 for k,v in w2v_model.wv.key_to_index.items()}\n",
    "pickle.dump(final_dict, open('sentiment140_final_dict.pkl', 'wb'))"
   ],
   "metadata": {
    "collapsed": false,
    "pycharm": {
     "name": "#%%\n"
    }
   }
  },
  {
   "cell_type": "code",
   "execution_count": 117,
   "outputs": [
    {
     "name": "stdout",
     "output_type": "stream",
     "text": [
      "27086\n"
     ]
    }
   ],
   "source": [
    "not_exist_id = len(final_dict) + 1    # skip 0\n",
    "vocab_size = not_exist_id + 1\n",
    "assert not_exist_id not in list(final_dict.values())\n",
    "print(not_exist_id)"
   ],
   "metadata": {
    "collapsed": false,
    "pycharm": {
     "name": "#%%\n"
    }
   }
  },
  {
   "cell_type": "code",
   "execution_count": 120,
   "outputs": [],
   "source": [
    "train_tokens = [[final_dict[token] if token in final_dict else not_exist_id for token in document] for document in documents]\n",
    "test_tokens = [[final_dict[token] if token in final_dict else not_exist_id for token in document.split()] for document in test_lines]"
   ],
   "metadata": {
    "collapsed": false,
    "pycharm": {
     "name": "#%%\n"
    }
   }
  },
  {
   "cell_type": "code",
   "execution_count": 121,
   "outputs": [
    {
     "data": {
      "text/plain": "1600000"
     },
     "execution_count": 121,
     "metadata": {},
     "output_type": "execute_result"
    }
   ],
   "source": [
    "len(train_tokens)"
   ],
   "metadata": {
    "collapsed": false,
    "pycharm": {
     "name": "#%%\n"
    }
   }
  },
  {
   "cell_type": "code",
   "execution_count": 122,
   "outputs": [],
   "source": [
    "train_tokens_padded = tf.keras.preprocessing.sequence.pad_sequences(train_tokens, maxlen=SEQUENCE_LENGTH)\n",
    "test_tokens_padded = tf.keras.preprocessing.sequence.pad_sequences(test_tokens, maxlen=SEQUENCE_LENGTH)"
   ],
   "metadata": {
    "collapsed": false,
    "pycharm": {
     "name": "#%%\n"
    }
   }
  },
  {
   "cell_type": "code",
   "execution_count": 123,
   "outputs": [
    {
     "data": {
      "text/plain": "384000000"
     },
     "execution_count": 123,
     "metadata": {},
     "output_type": "execute_result"
    }
   ],
   "source": [
    "train_tokens_padded.nbytes"
   ],
   "metadata": {
    "collapsed": false,
    "pycharm": {
     "name": "#%%\n"
    }
   }
  },
  {
   "cell_type": "code",
   "execution_count": 124,
   "outputs": [],
   "source": [
    "sp.save_npz('sentiment140_x_train.csr.npz', sp.csr_matrix(train_tokens_padded))\n",
    "sp.save_npz('sentiment140_x_test.csr.npz', sp.csr_matrix(test_tokens_padded))"
   ],
   "metadata": {
    "collapsed": false,
    "pycharm": {
     "name": "#%%\n"
    }
   }
  },
  {
   "cell_type": "code",
   "execution_count": 125,
   "outputs": [],
   "source": [
    "np.save('sentiment140_y_train.npy', np.array(labels, dtype=np.uint8))\n",
    "np.save('sentiment140_y_test.npy', np.array(test_labels, dtype=np.uint8))"
   ],
   "metadata": {
    "collapsed": false,
    "pycharm": {
     "name": "#%%\n"
    }
   }
  },
  {
   "cell_type": "code",
   "execution_count": 126,
   "outputs": [
    {
     "name": "stdout",
     "output_type": "stream",
     "text": [
      "-rw-r--r--  1 maghsk  staff   30720128 Mar 19 10:45 cifar10_x_test.npy\r\n",
      "-rw-r--r--  1 maghsk  staff  153600128 Mar 19 10:45 cifar10_x_train.npy\r\n",
      "-rw-r--r--  1 maghsk  staff      10128 Mar 19 10:45 cifar10_y_test.npy\r\n",
      "-rw-r--r--  1 maghsk  staff      50128 Mar 19 10:45 cifar10_y_train.npy\r\n",
      "-rw-r--r--  1 maghsk  staff   65008928 Mar 19 21:42 sentiment140_embedding.npy\r\n",
      "-rw-r--r--  1 maghsk  staff      10323 Mar 19 21:46 sentiment140_x_test.csr.npz\r\n",
      "-rw-r--r--  1 maghsk  staff   26507784 Mar 19 21:46 sentiment140_x_train.csr.npz\r\n",
      "-rw-r--r--  1 maghsk  staff        626 Mar 19 21:46 sentiment140_y_test.npy\r\n",
      "-rw-r--r--  1 maghsk  staff    1600128 Mar 19 21:46 sentiment140_y_train.npy\r\n"
     ]
    }
   ],
   "source": [
    "!ls -l *.np*"
   ],
   "metadata": {
    "collapsed": false,
    "pycharm": {
     "name": "#%%\n"
    }
   }
  },
  {
   "cell_type": "code",
   "execution_count": 127,
   "outputs": [],
   "source": [
    "tmp = sp.load_npz('sentiment140_x_train.csr.npz').toarray()\n",
    "assert np.allclose(tmp, train_tokens_padded)\n",
    "tmp = sp.load_npz('sentiment140_x_test.csr.npz').toarray()\n",
    "assert np.allclose(tmp, test_tokens_padded)"
   ],
   "metadata": {
    "collapsed": false,
    "pycharm": {
     "name": "#%%\n"
    }
   }
  },
  {
   "cell_type": "code",
   "execution_count": 130,
   "outputs": [
    {
     "name": "stdout",
     "output_type": "stream",
     "text": [
      "(27087, 300) 65008800\n"
     ]
    }
   ],
   "source": [
    "embedding_matrix = np.zeros((vocab_size, W2V_SIZE))\n",
    "for k,v in final_dict.items():\n",
    "    embedding_matrix[v] = w2v_dict[k]\n",
    "print(embedding_matrix.shape, embedding_matrix.nbytes)"
   ],
   "metadata": {
    "collapsed": false,
    "pycharm": {
     "name": "#%%\n"
    }
   }
  },
  {
   "cell_type": "code",
   "execution_count": 131,
   "outputs": [],
   "source": [
    "np.save('sentiment140_embedding.npy', embedding_matrix)"
   ],
   "metadata": {
    "collapsed": false,
    "pycharm": {
     "name": "#%%\n"
    }
   }
  }
 ],
 "metadata": {
  "kernelspec": {
   "display_name": "Python 3",
   "language": "python",
   "name": "python3"
  },
  "language_info": {
   "codemirror_mode": {
    "name": "ipython",
    "version": 2
   },
   "file_extension": ".py",
   "mimetype": "text/x-python",
   "name": "python",
   "nbconvert_exporter": "python",
   "pygments_lexer": "ipython2",
   "version": "2.7.6"
  }
 },
 "nbformat": 4,
 "nbformat_minor": 0
}