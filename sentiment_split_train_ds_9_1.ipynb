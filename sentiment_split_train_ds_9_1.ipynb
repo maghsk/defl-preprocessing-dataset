{
 "cells": [
  {
   "cell_type": "code",
   "execution_count": 1,
   "id": "aaf4dca0-3c48-4d22-911b-e3c184bd6212",
   "metadata": {},
   "outputs": [],
   "source": [
    "import numpy as np\n",
    "import scipy.sparse as sp\n",
    "from split_data_utils import get_split_results, output_to_files\n",
    "from sklearn.model_selection import train_test_split"
   ]
  },
  {
   "cell_type": "code",
   "execution_count": 2,
   "id": "b1d1aae4-45cf-4845-9727-a346f2ddd1da",
   "metadata": {},
   "outputs": [],
   "source": [
    "x_train = sp.load_npz('./data/sentiment140_x_train.csr.npz').toarray()\n",
    "y_train = np.load('./data/sentiment140_y_train.npy')\n",
    "\n",
    "# x_test = sp.load_npz('./data/sentiment140_x_test.csr.npz').toarray()\n",
    "# y_test = np.load('./data/sentiment140_y_test.npy')"
   ]
  },
  {
   "cell_type": "code",
   "execution_count": 3,
   "id": "9d9d703a-17e2-4be8-b82a-72c866b8007e",
   "metadata": {},
   "outputs": [],
   "source": [
    "x_train, x_test, y_train, y_test = train_test_split(x_train, y_train, random_state=42, test_size=0.1)"
   ]
  },
  {
   "cell_type": "code",
   "execution_count": 4,
   "id": "bc73f651-9749-47af-89f7-995cba138d8a",
   "metadata": {},
   "outputs": [
    {
     "name": "stdout",
     "output_type": "stream",
     "text": [
      "(1440000, 60) (160000, 60)\n"
     ]
    }
   ],
   "source": [
    "print(x_train.shape, x_test.shape)"
   ]
  },
  {
   "cell_type": "code",
   "execution_count": 5,
   "id": "fc99a2d0-4a19-4cda-9a24-4600b25bee3c",
   "metadata": {},
   "outputs": [],
   "source": [
    "sp.save_npz('./data/sentiment140_x_train_9.csr.npz', sp.csr_matrix(x_train))\n",
    "np.save('./data/sentiment140_y_train_9.npy', y_train)\n",
    "sp.save_npz('./data/sentiment140_x_train_1.csr.npz', sp.csr_matrix(x_test))\n",
    "np.save('./data/sentiment140_y_train_1.npy', y_test)"
   ]
  },
  {
   "cell_type": "code",
   "execution_count": null,
   "id": "1fef4039-aa9c-41cb-863c-c4d0d6c00acb",
   "metadata": {},
   "outputs": [],
   "source": []
  }
 ],
 "metadata": {
  "kernelspec": {
   "display_name": "Python 3 (ipykernel)",
   "language": "python",
   "name": "python3"
  },
  "language_info": {
   "codemirror_mode": {
    "name": "ipython",
    "version": 3
   },
   "file_extension": ".py",
   "mimetype": "text/x-python",
   "name": "python",
   "nbconvert_exporter": "python",
   "pygments_lexer": "ipython3",
   "version": "3.9.11"
  }
 },
 "nbformat": 4,
 "nbformat_minor": 5
}
