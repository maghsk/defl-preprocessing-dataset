{
 "cells": [
  {
   "cell_type": "code",
   "execution_count": 1,
   "metadata": {
    "collapsed": true
   },
   "outputs": [],
   "source": [
    "import tensorflow as tf\n",
    "import tensorflow_addons as tfa\n",
    "import numpy as np"
   ]
  },
  {
   "cell_type": "code",
   "execution_count": 2,
   "outputs": [],
   "source": [
    "def load_data_x_y(x_path: str, y_path: str, do_label_flip: bool, to_one_hot: bool, normalize: bool = True):\n",
    "    x = np.load(x_path)\n",
    "    y = np.load(y_path)\n",
    "    y_max = np.max(y)\n",
    "    y_min = np.min(y)\n",
    "\n",
    "    if do_label_flip:\n",
    "        y = y_max - y + y_min\n",
    "    if to_one_hot:\n",
    "        y = tf.keras.utils.to_categorical(y, num_classes=y_max - y_min + 1)\n",
    "\n",
    "    if normalize:\n",
    "        x = x.astype(np.float32) / 255.\n",
    "\n",
    "    return tf.data.Dataset.from_tensor_slices((x, y))"
   ],
   "metadata": {
    "collapsed": false,
    "pycharm": {
     "name": "#%%\n"
    }
   }
  },
  {
   "cell_type": "code",
   "execution_count": 3,
   "outputs": [],
   "source": [
    "def data_augmentation(img, label):\n",
    "    img = tf.image.random_flip_left_right(img)\n",
    "    img = tf.image.random_brightness(img, max_delta=32.0 / 255.0)\n",
    "    img = tf.image.random_saturation(img, lower=0.5, upper=1.5)\n",
    "    img = tf.clip_by_value(img, 0.0, 1.0)\n",
    "\n",
    "    return img, label"
   ],
   "metadata": {
    "collapsed": false,
    "pycharm": {
     "name": "#%%\n"
    }
   }
  },
  {
   "cell_type": "code",
   "execution_count": 4,
   "outputs": [
    {
     "name": "stderr",
     "output_type": "stream",
     "text": [
      "2022-03-19 16:44:15.240281: I tensorflow/core/common_runtime/pluggable_device/pluggable_device_factory.cc:305] Could not identify NUMA node of platform GPU ID 0, defaulting to 0. Your kernel may not have been built with NUMA support.\n",
      "2022-03-19 16:44:15.240546: I tensorflow/core/common_runtime/pluggable_device/pluggable_device_factory.cc:271] Created TensorFlow device (/job:localhost/replica:0/task:0/device:GPU:0 with 0 MB memory) -> physical PluggableDevice (device: 0, name: METAL, pci bus id: <undefined>)\n"
     ]
    },
    {
     "name": "stdout",
     "output_type": "stream",
     "text": [
      "Metal device set to: Apple M1\n"
     ]
    }
   ],
   "source": [
    "with tf.device('/cpu:0'):\n",
    "    ds = load_data_x_y('cifar10_x_train.npy', 'cifar10_y_train.npy', False, True, True).map(data_augmentation, num_parallel_calls=8)\n",
    "    ds = ds.shuffle(buffer_size=10000).batch(32).prefetch(tf.data.AUTOTUNE)\n",
    "    test_ds = load_data_x_y('cifar10_x_test.npy', 'cifar10_y_test.npy', False, True, True)\n",
    "    test_ds = test_ds.batch(128).prefetch(tf.data.AUTOTUNE)"
   ],
   "metadata": {
    "collapsed": false,
    "pycharm": {
     "name": "#%%\n"
    }
   }
  },
  {
   "cell_type": "code",
   "execution_count": 5,
   "outputs": [
    {
     "name": "stdout",
     "output_type": "stream",
     "text": [
      "WARNING:tensorflow:No training configuration found in the save file, so the model was *not* compiled. Compile it manually.\n"
     ]
    }
   ],
   "source": [
    "model = tf.keras.models.load_model('/Users/maghsk/Gits/defl-hotstuff/benchmark/defl/data/init_model.h5')\n",
    "# model = tf.keras.applications.ResNet50V2(input_shape=(32, 32, 3), classes=10, weights=None)"
   ],
   "metadata": {
    "collapsed": false,
    "pycharm": {
     "name": "#%%\n"
    }
   }
  },
  {
   "cell_type": "code",
   "execution_count": 6,
   "outputs": [
    {
     "name": "stdout",
     "output_type": "stream",
     "text": [
      "Model: \"init_model\"\n",
      "_________________________________________________________________\n",
      " Layer (type)                Output Shape              Param #   \n",
      "=================================================================\n",
      " conv2d (Conv2D)             (None, 32, 32, 32)        896       \n",
      "                                                                 \n",
      " conv2d_1 (Conv2D)           (None, 30, 30, 32)        9248      \n",
      "                                                                 \n",
      " max_pooling2d (MaxPooling2D  (None, 15, 15, 32)       0         \n",
      " )                                                               \n",
      "                                                                 \n",
      " dropout (Dropout)           (None, 15, 15, 32)        0         \n",
      "                                                                 \n",
      " conv2d_2 (Conv2D)           (None, 15, 15, 64)        18496     \n",
      "                                                                 \n",
      " conv2d_3 (Conv2D)           (None, 13, 13, 64)        36928     \n",
      "                                                                 \n",
      " max_pooling2d_1 (MaxPooling  (None, 6, 6, 64)         0         \n",
      " 2D)                                                             \n",
      "                                                                 \n",
      " dropout_1 (Dropout)         (None, 6, 6, 64)          0         \n",
      "                                                                 \n",
      " flatten (Flatten)           (None, 2304)              0         \n",
      "                                                                 \n",
      " dense (Dense)               (None, 512)               1180160   \n",
      "                                                                 \n",
      " dropout_2 (Dropout)         (None, 512)               0         \n",
      "                                                                 \n",
      " dense_1 (Dense)             (None, 10)                5130      \n",
      "                                                                 \n",
      "=================================================================\n",
      "Total params: 1,250,858\n",
      "Trainable params: 1,250,858\n",
      "Non-trainable params: 0\n",
      "_________________________________________________________________\n"
     ]
    }
   ],
   "source": [
    "model.compile(\n",
    "    loss=tf.keras.losses.CategoricalCrossentropy(),\n",
    "    metrics=[tf.keras.metrics.CategoricalAccuracy()],\n",
    "    optimizer=tfa.optimizers.AdamW(learning_rate=1e-3, weight_decay=1e-5),\n",
    ")\n",
    "model.summary()"
   ],
   "metadata": {
    "collapsed": false,
    "pycharm": {
     "name": "#%%\n"
    }
   }
  },
  {
   "cell_type": "code",
   "execution_count": 7,
   "outputs": [
    {
     "name": "stdout",
     "output_type": "stream",
     "text": [
      "Epoch 1/10\n"
     ]
    },
    {
     "name": "stderr",
     "output_type": "stream",
     "text": [
      "2022-03-19 16:44:17.009454: W tensorflow/core/platform/profile_utils/cpu_utils.cc:128] Failed to get CPU frequency: 0 Hz\n",
      "2022-03-19 16:44:17.009984: I tensorflow/core/grappler/optimizers/custom_graph_optimizer_registry.cc:113] Plugin optimizer for device_type GPU is enabled.\n"
     ]
    },
    {
     "name": "stdout",
     "output_type": "stream",
     "text": [
      "1563/1563 [==============================] - ETA: 0s - loss: 1.5350 - categorical_accuracy: 0.4415"
     ]
    },
    {
     "name": "stderr",
     "output_type": "stream",
     "text": [
      "2022-03-19 16:44:48.623296: I tensorflow/core/grappler/optimizers/custom_graph_optimizer_registry.cc:113] Plugin optimizer for device_type GPU is enabled.\n"
     ]
    },
    {
     "name": "stdout",
     "output_type": "stream",
     "text": [
      "1563/1563 [==============================] - 33s 20ms/step - loss: 1.5350 - categorical_accuracy: 0.4415 - val_loss: 1.1403 - val_categorical_accuracy: 0.5934\n",
      "Epoch 2/10\n",
      "1563/1563 [==============================] - 31s 20ms/step - loss: 1.1116 - categorical_accuracy: 0.6033 - val_loss: 0.9292 - val_categorical_accuracy: 0.6762\n",
      "Epoch 3/10\n",
      "1563/1563 [==============================] - 34s 22ms/step - loss: 0.9585 - categorical_accuracy: 0.6618 - val_loss: 0.8434 - val_categorical_accuracy: 0.6979\n",
      "Epoch 4/10\n",
      "1563/1563 [==============================] - 34s 21ms/step - loss: 0.8632 - categorical_accuracy: 0.6965 - val_loss: 0.7794 - val_categorical_accuracy: 0.7255\n",
      "Epoch 5/10\n",
      "1563/1563 [==============================] - 33s 21ms/step - loss: 0.8045 - categorical_accuracy: 0.7187 - val_loss: 0.7066 - val_categorical_accuracy: 0.7548\n",
      "Epoch 6/10\n",
      "1563/1563 [==============================] - 31s 20ms/step - loss: 0.7663 - categorical_accuracy: 0.7315 - val_loss: 0.7107 - val_categorical_accuracy: 0.7541\n",
      "Epoch 7/10\n",
      "1563/1563 [==============================] - 34s 22ms/step - loss: 0.7283 - categorical_accuracy: 0.7450 - val_loss: 0.6702 - val_categorical_accuracy: 0.7713\n",
      "Epoch 8/10\n",
      "1563/1563 [==============================] - 31s 19ms/step - loss: 0.7002 - categorical_accuracy: 0.7551 - val_loss: 0.6745 - val_categorical_accuracy: 0.7672\n",
      "Epoch 9/10\n",
      "1563/1563 [==============================] - 32s 20ms/step - loss: 0.6751 - categorical_accuracy: 0.7641 - val_loss: 0.6575 - val_categorical_accuracy: 0.7720\n",
      "Epoch 10/10\n",
      "1563/1563 [==============================] - 34s 21ms/step - loss: 0.6571 - categorical_accuracy: 0.7690 - val_loss: 0.6502 - val_categorical_accuracy: 0.7763\n"
     ]
    }
   ],
   "source": [
    "history = model.fit(ds, epochs=10, validation_data=test_ds, validation_freq=1)"
   ],
   "metadata": {
    "collapsed": false,
    "pycharm": {
     "name": "#%%\n"
    }
   }
  }
 ],
 "metadata": {
  "kernelspec": {
   "display_name": "Python 3",
   "language": "python",
   "name": "python3"
  },
  "language_info": {
   "codemirror_mode": {
    "name": "ipython",
    "version": 2
   },
   "file_extension": ".py",
   "mimetype": "text/x-python",
   "name": "python",
   "nbconvert_exporter": "python",
   "pygments_lexer": "ipython2",
   "version": "2.7.6"
  }
 },
 "nbformat": 4,
 "nbformat_minor": 0
}